{
  "nbformat": 4,
  "nbformat_minor": 0,
  "metadata": {
    "colab": {
      "name": "Stock market prediction.ipynb",
      "provenance": [],
      "collapsed_sections": []
    },
    "kernelspec": {
      "name": "python3",
      "display_name": "Python 3"
    },
    "language_info": {
      "name": "python"
    },
    "accelerator": "GPU"
  },
  "cells": [
    {
      "cell_type": "code",
      "metadata": {
        "id": "vltRa_lOVhKD"
      },
      "source": [
        "import numpy as np\n",
        "import pandas_datareader as pdr\n",
        "import matplotlib.pyplot as plt\n",
        "import seaborn as sb\n",
        "from sklearn.model_selection import train_test_split\n",
        "from sklearn.metrics import mean_squared_error\n",
        "from sklearn. metrics import r2_score\n",
        "import pandas as pd"
      ],
      "execution_count": 69,
      "outputs": []
    },
    {
      "cell_type": "code",
      "metadata": {
        "id": "d7T3n3QmWUf1"
      },
      "source": [
        "df = pdr.get_data_tiingo('AAPL', api_key='9376141f8679e37d9bb8aedddc1c1ca4ddfbd6e8')"
      ],
      "execution_count": 2,
      "outputs": []
    },
    {
      "cell_type": "code",
      "metadata": {
        "id": "MihpDx4WWYRV"
      },
      "source": [
        "df.to_csv(\"AAPL.csv\")"
      ],
      "execution_count": 3,
      "outputs": []
    },
    {
      "cell_type": "code",
      "metadata": {
        "id": "A51aCH2RWYOh"
      },
      "source": [
        "df = pd.read_csv(\"AAPL.csv\")"
      ],
      "execution_count": 4,
      "outputs": []
    },
    {
      "cell_type": "code",
      "metadata": {
        "id": "y6S4mOhuWYK5",
        "colab": {
          "base_uri": "https://localhost:8080/",
          "height": 289
        },
        "outputId": "1512c71c-3f46-48fb-e3b6-cef7e10ef62d"
      },
      "source": [
        "df.head()"
      ],
      "execution_count": 5,
      "outputs": [
        {
          "output_type": "execute_result",
          "data": {
            "text/html": [
              "<div>\n",
              "<style scoped>\n",
              "    .dataframe tbody tr th:only-of-type {\n",
              "        vertical-align: middle;\n",
              "    }\n",
              "\n",
              "    .dataframe tbody tr th {\n",
              "        vertical-align: top;\n",
              "    }\n",
              "\n",
              "    .dataframe thead th {\n",
              "        text-align: right;\n",
              "    }\n",
              "</style>\n",
              "<table border=\"1\" class=\"dataframe\">\n",
              "  <thead>\n",
              "    <tr style=\"text-align: right;\">\n",
              "      <th></th>\n",
              "      <th>symbol</th>\n",
              "      <th>date</th>\n",
              "      <th>close</th>\n",
              "      <th>high</th>\n",
              "      <th>low</th>\n",
              "      <th>open</th>\n",
              "      <th>volume</th>\n",
              "      <th>adjClose</th>\n",
              "      <th>adjHigh</th>\n",
              "      <th>adjLow</th>\n",
              "      <th>adjOpen</th>\n",
              "      <th>adjVolume</th>\n",
              "      <th>divCash</th>\n",
              "      <th>splitFactor</th>\n",
              "    </tr>\n",
              "  </thead>\n",
              "  <tbody>\n",
              "    <tr>\n",
              "      <th>0</th>\n",
              "      <td>AAPL</td>\n",
              "      <td>2016-04-27 00:00:00+00:00</td>\n",
              "      <td>97.82</td>\n",
              "      <td>98.71</td>\n",
              "      <td>95.68</td>\n",
              "      <td>96.000</td>\n",
              "      <td>114602142</td>\n",
              "      <td>22.741853</td>\n",
              "      <td>22.948766</td>\n",
              "      <td>22.244331</td>\n",
              "      <td>22.318727</td>\n",
              "      <td>458408568</td>\n",
              "      <td>0.0</td>\n",
              "      <td>1.0</td>\n",
              "    </tr>\n",
              "    <tr>\n",
              "      <th>1</th>\n",
              "      <td>AAPL</td>\n",
              "      <td>2016-04-28 00:00:00+00:00</td>\n",
              "      <td>94.83</td>\n",
              "      <td>97.88</td>\n",
              "      <td>94.25</td>\n",
              "      <td>97.610</td>\n",
              "      <td>82242690</td>\n",
              "      <td>22.046717</td>\n",
              "      <td>22.755802</td>\n",
              "      <td>21.911875</td>\n",
              "      <td>22.693030</td>\n",
              "      <td>328970760</td>\n",
              "      <td>0.0</td>\n",
              "      <td>1.0</td>\n",
              "    </tr>\n",
              "    <tr>\n",
              "      <th>2</th>\n",
              "      <td>AAPL</td>\n",
              "      <td>2016-04-29 00:00:00+00:00</td>\n",
              "      <td>93.74</td>\n",
              "      <td>94.72</td>\n",
              "      <td>92.51</td>\n",
              "      <td>93.990</td>\n",
              "      <td>68531478</td>\n",
              "      <td>21.793307</td>\n",
              "      <td>22.021144</td>\n",
              "      <td>21.507348</td>\n",
              "      <td>21.851428</td>\n",
              "      <td>274125912</td>\n",
              "      <td>0.0</td>\n",
              "      <td>1.0</td>\n",
              "    </tr>\n",
              "    <tr>\n",
              "      <th>3</th>\n",
              "      <td>AAPL</td>\n",
              "      <td>2016-05-02 00:00:00+00:00</td>\n",
              "      <td>93.64</td>\n",
              "      <td>94.08</td>\n",
              "      <td>92.40</td>\n",
              "      <td>93.965</td>\n",
              "      <td>48160104</td>\n",
              "      <td>21.770058</td>\n",
              "      <td>21.872352</td>\n",
              "      <td>21.481774</td>\n",
              "      <td>21.845616</td>\n",
              "      <td>192640416</td>\n",
              "      <td>0.0</td>\n",
              "      <td>1.0</td>\n",
              "    </tr>\n",
              "    <tr>\n",
              "      <th>4</th>\n",
              "      <td>AAPL</td>\n",
              "      <td>2016-05-03 00:00:00+00:00</td>\n",
              "      <td>95.18</td>\n",
              "      <td>95.74</td>\n",
              "      <td>93.68</td>\n",
              "      <td>94.200</td>\n",
              "      <td>56831277</td>\n",
              "      <td>22.128088</td>\n",
              "      <td>22.258280</td>\n",
              "      <td>21.779357</td>\n",
              "      <td>21.900251</td>\n",
              "      <td>227325108</td>\n",
              "      <td>0.0</td>\n",
              "      <td>1.0</td>\n",
              "    </tr>\n",
              "  </tbody>\n",
              "</table>\n",
              "</div>"
            ],
            "text/plain": [
              "  symbol                       date  close  ...  adjVolume  divCash  splitFactor\n",
              "0   AAPL  2016-04-27 00:00:00+00:00  97.82  ...  458408568      0.0          1.0\n",
              "1   AAPL  2016-04-28 00:00:00+00:00  94.83  ...  328970760      0.0          1.0\n",
              "2   AAPL  2016-04-29 00:00:00+00:00  93.74  ...  274125912      0.0          1.0\n",
              "3   AAPL  2016-05-02 00:00:00+00:00  93.64  ...  192640416      0.0          1.0\n",
              "4   AAPL  2016-05-03 00:00:00+00:00  95.18  ...  227325108      0.0          1.0\n",
              "\n",
              "[5 rows x 14 columns]"
            ]
          },
          "metadata": {
            "tags": []
          },
          "execution_count": 5
        }
      ]
    },
    {
      "cell_type": "code",
      "metadata": {
        "colab": {
          "base_uri": "https://localhost:8080/",
          "height": 289
        },
        "id": "QVEiFwCc5sIo",
        "outputId": "bf7e89a8-afcd-45c6-e3da-b24e5e9c82e4"
      },
      "source": [
        "df.tail()"
      ],
      "execution_count": 6,
      "outputs": [
        {
          "output_type": "execute_result",
          "data": {
            "text/html": [
              "<div>\n",
              "<style scoped>\n",
              "    .dataframe tbody tr th:only-of-type {\n",
              "        vertical-align: middle;\n",
              "    }\n",
              "\n",
              "    .dataframe tbody tr th {\n",
              "        vertical-align: top;\n",
              "    }\n",
              "\n",
              "    .dataframe thead th {\n",
              "        text-align: right;\n",
              "    }\n",
              "</style>\n",
              "<table border=\"1\" class=\"dataframe\">\n",
              "  <thead>\n",
              "    <tr style=\"text-align: right;\">\n",
              "      <th></th>\n",
              "      <th>symbol</th>\n",
              "      <th>date</th>\n",
              "      <th>close</th>\n",
              "      <th>high</th>\n",
              "      <th>low</th>\n",
              "      <th>open</th>\n",
              "      <th>volume</th>\n",
              "      <th>adjClose</th>\n",
              "      <th>adjHigh</th>\n",
              "      <th>adjLow</th>\n",
              "      <th>adjOpen</th>\n",
              "      <th>adjVolume</th>\n",
              "      <th>divCash</th>\n",
              "      <th>splitFactor</th>\n",
              "    </tr>\n",
              "  </thead>\n",
              "  <tbody>\n",
              "    <tr>\n",
              "      <th>1252</th>\n",
              "      <td>AAPL</td>\n",
              "      <td>2021-04-19 00:00:00+00:00</td>\n",
              "      <td>134.84</td>\n",
              "      <td>135.47</td>\n",
              "      <td>133.3400</td>\n",
              "      <td>133.51</td>\n",
              "      <td>94264215</td>\n",
              "      <td>134.84</td>\n",
              "      <td>135.47</td>\n",
              "      <td>133.3400</td>\n",
              "      <td>133.51</td>\n",
              "      <td>94264215</td>\n",
              "      <td>0.0</td>\n",
              "      <td>1.0</td>\n",
              "    </tr>\n",
              "    <tr>\n",
              "      <th>1253</th>\n",
              "      <td>AAPL</td>\n",
              "      <td>2021-04-20 00:00:00+00:00</td>\n",
              "      <td>133.11</td>\n",
              "      <td>135.53</td>\n",
              "      <td>131.8100</td>\n",
              "      <td>135.02</td>\n",
              "      <td>94812349</td>\n",
              "      <td>133.11</td>\n",
              "      <td>135.53</td>\n",
              "      <td>131.8100</td>\n",
              "      <td>135.02</td>\n",
              "      <td>94812349</td>\n",
              "      <td>0.0</td>\n",
              "      <td>1.0</td>\n",
              "    </tr>\n",
              "    <tr>\n",
              "      <th>1254</th>\n",
              "      <td>AAPL</td>\n",
              "      <td>2021-04-21 00:00:00+00:00</td>\n",
              "      <td>133.50</td>\n",
              "      <td>133.75</td>\n",
              "      <td>131.3001</td>\n",
              "      <td>132.36</td>\n",
              "      <td>68847136</td>\n",
              "      <td>133.50</td>\n",
              "      <td>133.75</td>\n",
              "      <td>131.3001</td>\n",
              "      <td>132.36</td>\n",
              "      <td>68847136</td>\n",
              "      <td>0.0</td>\n",
              "      <td>1.0</td>\n",
              "    </tr>\n",
              "    <tr>\n",
              "      <th>1255</th>\n",
              "      <td>AAPL</td>\n",
              "      <td>2021-04-22 00:00:00+00:00</td>\n",
              "      <td>131.94</td>\n",
              "      <td>134.15</td>\n",
              "      <td>131.4100</td>\n",
              "      <td>133.04</td>\n",
              "      <td>84566456</td>\n",
              "      <td>131.94</td>\n",
              "      <td>134.15</td>\n",
              "      <td>131.4100</td>\n",
              "      <td>133.04</td>\n",
              "      <td>84566456</td>\n",
              "      <td>0.0</td>\n",
              "      <td>1.0</td>\n",
              "    </tr>\n",
              "    <tr>\n",
              "      <th>1256</th>\n",
              "      <td>AAPL</td>\n",
              "      <td>2021-04-23 00:00:00+00:00</td>\n",
              "      <td>134.32</td>\n",
              "      <td>135.12</td>\n",
              "      <td>132.1600</td>\n",
              "      <td>132.16</td>\n",
              "      <td>78756779</td>\n",
              "      <td>134.32</td>\n",
              "      <td>135.12</td>\n",
              "      <td>132.1600</td>\n",
              "      <td>132.16</td>\n",
              "      <td>78756779</td>\n",
              "      <td>0.0</td>\n",
              "      <td>1.0</td>\n",
              "    </tr>\n",
              "  </tbody>\n",
              "</table>\n",
              "</div>"
            ],
            "text/plain": [
              "     symbol                       date   close  ...  adjVolume  divCash  splitFactor\n",
              "1252   AAPL  2021-04-19 00:00:00+00:00  134.84  ...   94264215      0.0          1.0\n",
              "1253   AAPL  2021-04-20 00:00:00+00:00  133.11  ...   94812349      0.0          1.0\n",
              "1254   AAPL  2021-04-21 00:00:00+00:00  133.50  ...   68847136      0.0          1.0\n",
              "1255   AAPL  2021-04-22 00:00:00+00:00  131.94  ...   84566456      0.0          1.0\n",
              "1256   AAPL  2021-04-23 00:00:00+00:00  134.32  ...   78756779      0.0          1.0\n",
              "\n",
              "[5 rows x 14 columns]"
            ]
          },
          "metadata": {
            "tags": []
          },
          "execution_count": 6
        }
      ]
    },
    {
      "cell_type": "code",
      "metadata": {
        "id": "Q8KBPu4z5r5I"
      },
      "source": [
        "df1 = df.reset_index()['close']"
      ],
      "execution_count": 7,
      "outputs": []
    },
    {
      "cell_type": "code",
      "metadata": {
        "colab": {
          "base_uri": "https://localhost:8080/"
        },
        "id": "V2U4pKKl5r2C",
        "outputId": "0391c23b-4fa3-4e44-d9fe-4683dc582842"
      },
      "source": [
        "df1.shape"
      ],
      "execution_count": 8,
      "outputs": [
        {
          "output_type": "execute_result",
          "data": {
            "text/plain": [
              "(1257,)"
            ]
          },
          "metadata": {
            "tags": []
          },
          "execution_count": 8
        }
      ]
    },
    {
      "cell_type": "code",
      "metadata": {
        "colab": {
          "base_uri": "https://localhost:8080/"
        },
        "id": "oxABFWSJ5rzT",
        "outputId": "e7cbd50a-f239-4cb9-d2a0-3687a420a504"
      },
      "source": [
        "df1"
      ],
      "execution_count": 9,
      "outputs": [
        {
          "output_type": "execute_result",
          "data": {
            "text/plain": [
              "0        97.82\n",
              "1        94.83\n",
              "2        93.74\n",
              "3        93.64\n",
              "4        95.18\n",
              "         ...  \n",
              "1252    134.84\n",
              "1253    133.11\n",
              "1254    133.50\n",
              "1255    131.94\n",
              "1256    134.32\n",
              "Name: close, Length: 1257, dtype: float64"
            ]
          },
          "metadata": {
            "tags": []
          },
          "execution_count": 9
        }
      ]
    },
    {
      "cell_type": "code",
      "metadata": {
        "colab": {
          "base_uri": "https://localhost:8080/",
          "height": 282
        },
        "id": "0CzJWOns5rw0",
        "outputId": "505a0263-5a47-4902-e023-b709b2e9ce31"
      },
      "source": [
        "plt.plot(df1)"
      ],
      "execution_count": 10,
      "outputs": [
        {
          "output_type": "execute_result",
          "data": {
            "text/plain": [
              "[<matplotlib.lines.Line2D at 0x7f4c5193c410>]"
            ]
          },
          "metadata": {
            "tags": []
          },
          "execution_count": 10
        },
        {
          "output_type": "display_data",
          "data": {
            "image/png": "[encoded data removed]",
            "text/plain": [
              "<Figure size 432x288 with 1 Axes>"
            ]
          },
          "metadata": {
            "tags": [],
            "needs_background": "light"
          }
        }
      ]
    },
    {
      "cell_type": "code",
      "metadata": {
        "id": "44kvkJTA5ri4"
      },
      "source": [
        "# LSTM are sensetive to scale of the data so we use min max scaler"
      ],
      "execution_count": 11,
      "outputs": []
    },
    {
      "cell_type": "code",
      "metadata": {
        "id": "1IwxfrPY5rfo"
      },
      "source": [
        "from sklearn.preprocessing import MinMaxScaler\n",
        "scaler = MinMaxScaler(feature_range=(0,1))\n",
        "df1 = scaler.fit_transform(np.array(df1).reshape(-1,1))"
      ],
      "execution_count": 12,
      "outputs": []
    },
    {
      "cell_type": "code",
      "metadata": {
        "colab": {
          "base_uri": "https://localhost:8080/"
        },
        "id": "wAEMIbkG5rck",
        "outputId": "9e7bd461-2088-42e5-c8e8-93ef50b90a2c"
      },
      "source": [
        "df1"
      ],
      "execution_count": 13,
      "outputs": [
        {
          "output_type": "execute_result",
          "data": {
            "text/plain": [
              "array([[0.01799158],\n",
              "       [0.01079976],\n",
              "       [0.00817799],\n",
              "       ...,\n",
              "       [0.10381239],\n",
              "       [0.10006013],\n",
              "       [0.10578473]])"
            ]
          },
          "metadata": {
            "tags": []
          },
          "execution_count": 13
        }
      ]
    },
    {
      "cell_type": "code",
      "metadata": {
        "id": "C-bCwCGL5raH"
      },
      "source": [
        "# Splitting data into train and test split\n",
        "training_size = int(len(df1)*0.65)\n",
        "testing_size = len(df1)-training_size\n",
        "train_data, test_data = df1[0:training_size,:], df1[training_size:len(df1),:1]"
      ],
      "execution_count": 14,
      "outputs": []
    },
    {
      "cell_type": "code",
      "metadata": {
        "colab": {
          "base_uri": "https://localhost:8080/"
        },
        "id": "44HtGogP5rXA",
        "outputId": "fd4d40cb-1859-4a75-dfe1-eb0dd0479b49"
      },
      "source": [
        "training_size, testing_size"
      ],
      "execution_count": 15,
      "outputs": [
        {
          "output_type": "execute_result",
          "data": {
            "text/plain": [
              "(817, 440)"
            ]
          },
          "metadata": {
            "tags": []
          },
          "execution_count": 15
        }
      ]
    },
    {
      "cell_type": "code",
      "metadata": {
        "colab": {
          "base_uri": "https://localhost:8080/"
        },
        "id": "Y1TkINkM5rUI",
        "outputId": "ab9e936d-80d9-4251-8c40-c23ff95da787"
      },
      "source": [
        "len(train_data), len(test_data)"
      ],
      "execution_count": 16,
      "outputs": [
        {
          "output_type": "execute_result",
          "data": {
            "text/plain": [
              "(817, 440)"
            ]
          },
          "metadata": {
            "tags": []
          },
          "execution_count": 16
        }
      ]
    },
    {
      "cell_type": "code",
      "metadata": {
        "id": "MRBu5y4Y5rRQ"
      },
      "source": [
        "# Convert an array of values into a dataset matrix\n",
        "def create_dataset(dataset, time_step=1):\n",
        "    dataX, dataY = [],[]\n",
        "    for i in range(len(dataset)-time_step-1):\n",
        "        a = dataset[i:(i+time_step),0]\n",
        "        dataX.append(a)\n",
        "        dataY.append(dataset[i + time_step, 0])\n",
        "    return np.array(dataX), np.array(dataY)"
      ],
      "execution_count": 17,
      "outputs": []
    },
    {
      "cell_type": "code",
      "metadata": {
        "id": "jPTmNtJj6GwL"
      },
      "source": [
        "# Reshape into X=t, t+1, t+2, t+3 and Y=t+4\n",
        "time_step = 100\n",
        "X_train, Y_train = create_dataset(train_data, time_step)\n",
        "X_test, Y_test = create_dataset(test_data, time_step)"
      ],
      "execution_count": 18,
      "outputs": []
    },
    {
      "cell_type": "code",
      "metadata": {
        "colab": {
          "base_uri": "https://localhost:8080/"
        },
        "id": "DngB38GD6Ibb",
        "outputId": "b0ef7615-37e5-456f-ca95-9d5a359a36d9"
      },
      "source": [
        "print(X_train.shape), print(Y_train.shape)"
      ],
      "execution_count": 19,
      "outputs": [
        {
          "output_type": "stream",
          "text": [
            "(716, 100)\n",
            "(716,)\n"
          ],
          "name": "stdout"
        },
        {
          "output_type": "execute_result",
          "data": {
            "text/plain": [
              "(None, None)"
            ]
          },
          "metadata": {
            "tags": []
          },
          "execution_count": 19
        }
      ]
    },
    {
      "cell_type": "code",
      "metadata": {
        "colab": {
          "base_uri": "https://localhost:8080/"
        },
        "id": "IBsk25BU6IXM",
        "outputId": "56bce7ca-9b3a-4c0f-af29-9e2ad07c4e76"
      },
      "source": [
        "print(X_test.shape),print(Y_test.shape)"
      ],
      "execution_count": 20,
      "outputs": [
        {
          "output_type": "stream",
          "text": [
            "(339, 100)\n",
            "(339,)\n"
          ],
          "name": "stdout"
        },
        {
          "output_type": "execute_result",
          "data": {
            "text/plain": [
              "(None, None)"
            ]
          },
          "metadata": {
            "tags": []
          },
          "execution_count": 20
        }
      ]
    },
    {
      "cell_type": "code",
      "metadata": {
        "id": "yKJ-3vJ06IUI"
      },
      "source": [
        "# Reshaping inputs to be [samples, time_step, features] which is required for LSTM\n",
        "X_train = X_train.reshape(X_train.shape[0], X_train.shape[1], 1)\n",
        "Y_train = Y_train.reshape(Y_train.shape[0], 1)\n",
        "X_test = X_test.reshape(X_test.shape[0], X_test.shape[1], 1)\n",
        "Y_test = Y_test.reshape(Y_test.shape[0], 1)"
      ],
      "execution_count": 64,
      "outputs": []
    },
    {
      "cell_type": "code",
      "metadata": {
        "id": "dYxFc5VG5rOa"
      },
      "source": [
        "# Create stacked LSTM model\n",
        "from tensorflow.keras.models import Sequential\n",
        "from tensorflow.keras.layers import Dense\n",
        "from tensorflow.keras.layers import LSTM"
      ],
      "execution_count": 22,
      "outputs": []
    },
    {
      "cell_type": "code",
      "metadata": {
        "id": "C7HTiRPc6G2W"
      },
      "source": [
        "model = Sequential()\n",
        "model.add(LSTM(50, return_sequences=True, input_shape=(100,1)))\n",
        "model.add(LSTM(50, return_sequences=True))\n",
        "model.add(LSTM(50))                           #stacked LSTM model\n",
        "model.add(Dense(1))                           #final optput\n",
        "model.compile(loss='mean_squared_error', optimizer='adam')       #compiling"
      ],
      "execution_count": 23,
      "outputs": []
    },
    {
      "cell_type": "code",
      "metadata": {
        "colab": {
          "base_uri": "https://localhost:8080/"
        },
        "id": "gi-qJefR6HaM",
        "outputId": "38f99e03-125a-4729-9678-ab514a816540"
      },
      "source": [
        "model.summary()"
      ],
      "execution_count": 24,
      "outputs": [
        {
          "output_type": "stream",
          "text": [
            "Model: \"sequential\"\n",
            "_________________________________________________________________\n",
            "Layer (type)                 Output Shape              Param #   \n",
            "=================================================================\n",
            "lstm (LSTM)                  (None, 100, 50)           10400     \n",
            "_________________________________________________________________\n",
            "lstm_1 (LSTM)                (None, 100, 50)           20200     \n",
            "_________________________________________________________________\n",
            "lstm_2 (LSTM)                (None, 50)                20200     \n",
            "_________________________________________________________________\n",
            "dense (Dense)                (None, 1)                 51        \n",
            "=================================================================\n",
            "Total params: 50,851\n",
            "Trainable params: 50,851\n",
            "Non-trainable params: 0\n",
            "_________________________________________________________________\n"
          ],
          "name": "stdout"
        }
      ]
    },
    {
      "cell_type": "code",
      "metadata": {
        "colab": {
          "base_uri": "https://localhost:8080/"
        },
        "id": "2XcOq25m6HdV",
        "outputId": "9c227c79-8b05-4db8-e661-779ff1102913"
      },
      "source": [
        "model.fit(X_train, Y_train, validation_data=(X_test,Y_test), epochs=100, batch_size=64, verbose=1)"
      ],
      "execution_count": 40,
      "outputs": [
        {
          "output_type": "stream",
          "text": [
            "Epoch 1/100\n",
            "12/12 [==============================] - 0s 31ms/step - loss: 1.4573e-04 - val_loss: 0.0096\n",
            "Epoch 2/100\n",
            "12/12 [==============================] - 0s 20ms/step - loss: 1.4402e-04 - val_loss: 0.0090\n",
            "Epoch 3/100\n",
            "12/12 [==============================] - 0s 19ms/step - loss: 1.4205e-04 - val_loss: 0.0093\n",
            "Epoch 4/100\n",
            "12/12 [==============================] - 0s 19ms/step - loss: 1.4261e-04 - val_loss: 0.0094\n",
            "Epoch 5/100\n",
            "12/12 [==============================] - 0s 19ms/step - loss: 1.4352e-04 - val_loss: 0.0096\n",
            "Epoch 6/100\n",
            "12/12 [==============================] - 0s 19ms/step - loss: 1.3940e-04 - val_loss: 0.0087\n",
            "Epoch 7/100\n",
            "12/12 [==============================] - 0s 19ms/step - loss: 1.4446e-04 - val_loss: 0.0085\n",
            "Epoch 8/100\n",
            "12/12 [==============================] - 0s 18ms/step - loss: 1.4003e-04 - val_loss: 0.0083\n",
            "Epoch 9/100\n",
            "12/12 [==============================] - 0s 19ms/step - loss: 1.5388e-04 - val_loss: 0.0081\n",
            "Epoch 10/100\n",
            "12/12 [==============================] - 0s 18ms/step - loss: 1.4878e-04 - val_loss: 0.0076\n",
            "Epoch 11/100\n",
            "12/12 [==============================] - 0s 18ms/step - loss: 1.3636e-04 - val_loss: 0.0084\n",
            "Epoch 12/100\n",
            "12/12 [==============================] - 0s 19ms/step - loss: 1.5455e-04 - val_loss: 0.0080\n",
            "Epoch 13/100\n",
            "12/12 [==============================] - 0s 19ms/step - loss: 1.3151e-04 - val_loss: 0.0079\n",
            "Epoch 14/100\n",
            "12/12 [==============================] - 0s 19ms/step - loss: 1.3892e-04 - val_loss: 0.0076\n",
            "Epoch 15/100\n",
            "12/12 [==============================] - 0s 20ms/step - loss: 1.7262e-04 - val_loss: 0.0083\n",
            "Epoch 16/100\n",
            "12/12 [==============================] - 0s 20ms/step - loss: 1.2861e-04 - val_loss: 0.0074\n",
            "Epoch 17/100\n",
            "12/12 [==============================] - 0s 19ms/step - loss: 1.2822e-04 - val_loss: 0.0085\n",
            "Epoch 18/100\n",
            "12/12 [==============================] - 0s 18ms/step - loss: 1.2594e-04 - val_loss: 0.0077\n",
            "Epoch 19/100\n",
            "12/12 [==============================] - 0s 19ms/step - loss: 1.2511e-04 - val_loss: 0.0071\n",
            "Epoch 20/100\n",
            "12/12 [==============================] - 0s 18ms/step - loss: 1.5734e-04 - val_loss: 0.0080\n",
            "Epoch 21/100\n",
            "12/12 [==============================] - 0s 19ms/step - loss: 1.5397e-04 - val_loss: 0.0075\n",
            "Epoch 22/100\n",
            "12/12 [==============================] - 0s 18ms/step - loss: 1.2381e-04 - val_loss: 0.0081\n",
            "Epoch 23/100\n",
            "12/12 [==============================] - 0s 19ms/step - loss: 1.3930e-04 - val_loss: 0.0067\n",
            "Epoch 24/100\n",
            "12/12 [==============================] - 0s 18ms/step - loss: 1.3990e-04 - val_loss: 0.0076\n",
            "Epoch 25/100\n",
            "12/12 [==============================] - 0s 19ms/step - loss: 1.2040e-04 - val_loss: 0.0075\n",
            "Epoch 26/100\n",
            "12/12 [==============================] - 0s 19ms/step - loss: 1.2442e-04 - val_loss: 0.0075\n",
            "Epoch 27/100\n",
            "12/12 [==============================] - 0s 18ms/step - loss: 1.1704e-04 - val_loss: 0.0066\n",
            "Epoch 28/100\n",
            "12/12 [==============================] - 0s 18ms/step - loss: 1.0743e-04 - val_loss: 0.0066\n",
            "Epoch 29/100\n",
            "12/12 [==============================] - 0s 18ms/step - loss: 1.1165e-04 - val_loss: 0.0063\n",
            "Epoch 30/100\n",
            "12/12 [==============================] - 0s 19ms/step - loss: 1.1800e-04 - val_loss: 0.0063\n",
            "Epoch 31/100\n",
            "12/12 [==============================] - 0s 18ms/step - loss: 1.2094e-04 - val_loss: 0.0065\n",
            "Epoch 32/100\n",
            "12/12 [==============================] - 0s 18ms/step - loss: 1.3373e-04 - val_loss: 0.0075\n",
            "Epoch 33/100\n",
            "12/12 [==============================] - 0s 19ms/step - loss: 1.1894e-04 - val_loss: 0.0061\n",
            "Epoch 34/100\n",
            "12/12 [==============================] - 0s 19ms/step - loss: 1.1165e-04 - val_loss: 0.0060\n",
            "Epoch 35/100\n",
            "12/12 [==============================] - 0s 19ms/step - loss: 1.1064e-04 - val_loss: 0.0066\n",
            "Epoch 36/100\n",
            "12/12 [==============================] - 0s 18ms/step - loss: 1.1058e-04 - val_loss: 0.0063\n",
            "Epoch 37/100\n",
            "12/12 [==============================] - 0s 18ms/step - loss: 1.0430e-04 - val_loss: 0.0055\n",
            "Epoch 38/100\n",
            "12/12 [==============================] - 0s 19ms/step - loss: 1.0349e-04 - val_loss: 0.0063\n",
            "Epoch 39/100\n",
            "12/12 [==============================] - 0s 19ms/step - loss: 9.7419e-05 - val_loss: 0.0055\n",
            "Epoch 40/100\n",
            "12/12 [==============================] - 0s 20ms/step - loss: 9.9653e-05 - val_loss: 0.0059\n",
            "Epoch 41/100\n",
            "12/12 [==============================] - 0s 19ms/step - loss: 1.0128e-04 - val_loss: 0.0059\n",
            "Epoch 42/100\n",
            "12/12 [==============================] - 0s 19ms/step - loss: 1.0782e-04 - val_loss: 0.0057\n",
            "Epoch 43/100\n",
            "12/12 [==============================] - 0s 19ms/step - loss: 1.0745e-04 - val_loss: 0.0051\n",
            "Epoch 44/100\n",
            "12/12 [==============================] - 0s 18ms/step - loss: 1.1545e-04 - val_loss: 0.0051\n",
            "Epoch 45/100\n",
            "12/12 [==============================] - 0s 18ms/step - loss: 1.1367e-04 - val_loss: 0.0059\n",
            "Epoch 46/100\n",
            "12/12 [==============================] - 0s 20ms/step - loss: 9.5782e-05 - val_loss: 0.0054\n",
            "Epoch 47/100\n",
            "12/12 [==============================] - 0s 18ms/step - loss: 9.0650e-05 - val_loss: 0.0050\n",
            "Epoch 48/100\n",
            "12/12 [==============================] - 0s 19ms/step - loss: 1.1160e-04 - val_loss: 0.0047\n",
            "Epoch 49/100\n",
            "12/12 [==============================] - 0s 20ms/step - loss: 1.1975e-04 - val_loss: 0.0054\n",
            "Epoch 50/100\n",
            "12/12 [==============================] - 0s 19ms/step - loss: 9.5022e-05 - val_loss: 0.0050\n",
            "Epoch 51/100\n",
            "12/12 [==============================] - 0s 19ms/step - loss: 8.7194e-05 - val_loss: 0.0047\n",
            "Epoch 52/100\n",
            "12/12 [==============================] - 0s 19ms/step - loss: 1.0241e-04 - val_loss: 0.0051\n",
            "Epoch 53/100\n",
            "12/12 [==============================] - 0s 19ms/step - loss: 9.2519e-05 - val_loss: 0.0052\n",
            "Epoch 54/100\n",
            "12/12 [==============================] - 0s 19ms/step - loss: 8.5122e-05 - val_loss: 0.0050\n",
            "Epoch 55/100\n",
            "12/12 [==============================] - 0s 19ms/step - loss: 8.5058e-05 - val_loss: 0.0052\n",
            "Epoch 56/100\n",
            "12/12 [==============================] - 0s 19ms/step - loss: 9.9662e-05 - val_loss: 0.0047\n",
            "Epoch 57/100\n",
            "12/12 [==============================] - 0s 19ms/step - loss: 9.9767e-05 - val_loss: 0.0047\n",
            "Epoch 58/100\n",
            "12/12 [==============================] - 0s 19ms/step - loss: 8.5141e-05 - val_loss: 0.0054\n",
            "Epoch 59/100\n",
            "12/12 [==============================] - 0s 19ms/step - loss: 8.6404e-05 - val_loss: 0.0052\n",
            "Epoch 60/100\n",
            "12/12 [==============================] - 0s 19ms/step - loss: 1.0480e-04 - val_loss: 0.0044\n",
            "Epoch 61/100\n",
            "12/12 [==============================] - 0s 19ms/step - loss: 1.0012e-04 - val_loss: 0.0046\n",
            "Epoch 62/100\n",
            "12/12 [==============================] - 0s 19ms/step - loss: 8.1704e-05 - val_loss: 0.0047\n",
            "Epoch 63/100\n",
            "12/12 [==============================] - 0s 18ms/step - loss: 1.0117e-04 - val_loss: 0.0050\n",
            "Epoch 64/100\n",
            "12/12 [==============================] - 0s 19ms/step - loss: 9.0472e-05 - val_loss: 0.0044\n",
            "Epoch 65/100\n",
            "12/12 [==============================] - 0s 18ms/step - loss: 8.6824e-05 - val_loss: 0.0047\n",
            "Epoch 66/100\n",
            "12/12 [==============================] - 0s 19ms/step - loss: 8.0073e-05 - val_loss: 0.0050\n",
            "Epoch 67/100\n",
            "12/12 [==============================] - 0s 19ms/step - loss: 8.8792e-05 - val_loss: 0.0048\n",
            "Epoch 68/100\n",
            "12/12 [==============================] - 0s 19ms/step - loss: 8.5713e-05 - val_loss: 0.0043\n",
            "Epoch 69/100\n",
            "12/12 [==============================] - 0s 19ms/step - loss: 8.3376e-05 - val_loss: 0.0044\n",
            "Epoch 70/100\n",
            "12/12 [==============================] - 0s 20ms/step - loss: 8.7241e-05 - val_loss: 0.0049\n",
            "Epoch 71/100\n",
            "12/12 [==============================] - 0s 19ms/step - loss: 8.3830e-05 - val_loss: 0.0047\n",
            "Epoch 72/100\n",
            "12/12 [==============================] - 0s 19ms/step - loss: 7.9943e-05 - val_loss: 0.0039\n",
            "Epoch 73/100\n",
            "12/12 [==============================] - 0s 18ms/step - loss: 8.1488e-05 - val_loss: 0.0038\n",
            "Epoch 74/100\n",
            "12/12 [==============================] - 0s 19ms/step - loss: 9.0543e-05 - val_loss: 0.0044\n",
            "Epoch 75/100\n",
            "12/12 [==============================] - 0s 19ms/step - loss: 8.7204e-05 - val_loss: 0.0057\n",
            "Epoch 76/100\n",
            "12/12 [==============================] - 0s 19ms/step - loss: 1.0318e-04 - val_loss: 0.0051\n",
            "Epoch 77/100\n",
            "12/12 [==============================] - 0s 18ms/step - loss: 8.5161e-05 - val_loss: 0.0039\n",
            "Epoch 78/100\n",
            "12/12 [==============================] - 0s 18ms/step - loss: 8.8356e-05 - val_loss: 0.0042\n",
            "Epoch 79/100\n",
            "12/12 [==============================] - 0s 20ms/step - loss: 7.4869e-05 - val_loss: 0.0047\n",
            "Epoch 80/100\n",
            "12/12 [==============================] - 0s 18ms/step - loss: 7.6951e-05 - val_loss: 0.0044\n",
            "Epoch 81/100\n",
            "12/12 [==============================] - 0s 19ms/step - loss: 8.1481e-05 - val_loss: 0.0040\n",
            "Epoch 82/100\n",
            "12/12 [==============================] - 0s 19ms/step - loss: 7.3287e-05 - val_loss: 0.0037\n",
            "Epoch 83/100\n",
            "12/12 [==============================] - 0s 19ms/step - loss: 8.4764e-05 - val_loss: 0.0041\n",
            "Epoch 84/100\n",
            "12/12 [==============================] - 0s 19ms/step - loss: 7.5863e-05 - val_loss: 0.0040\n",
            "Epoch 85/100\n",
            "12/12 [==============================] - 0s 19ms/step - loss: 7.1353e-05 - val_loss: 0.0037\n",
            "Epoch 86/100\n",
            "12/12 [==============================] - 0s 18ms/step - loss: 9.7346e-05 - val_loss: 0.0036\n",
            "Epoch 87/100\n",
            "12/12 [==============================] - 0s 18ms/step - loss: 1.4855e-04 - val_loss: 0.0035\n",
            "Epoch 88/100\n",
            "12/12 [==============================] - 0s 20ms/step - loss: 1.2911e-04 - val_loss: 0.0048\n",
            "Epoch 89/100\n",
            "12/12 [==============================] - 0s 19ms/step - loss: 8.1592e-05 - val_loss: 0.0047\n",
            "Epoch 90/100\n",
            "12/12 [==============================] - 0s 19ms/step - loss: 8.0594e-05 - val_loss: 0.0039\n",
            "Epoch 91/100\n",
            "12/12 [==============================] - 0s 18ms/step - loss: 7.1149e-05 - val_loss: 0.0040\n",
            "Epoch 92/100\n",
            "12/12 [==============================] - 0s 19ms/step - loss: 8.0522e-05 - val_loss: 0.0043\n",
            "Epoch 93/100\n",
            "12/12 [==============================] - 0s 20ms/step - loss: 6.9197e-05 - val_loss: 0.0038\n",
            "Epoch 94/100\n",
            "12/12 [==============================] - 0s 19ms/step - loss: 6.9771e-05 - val_loss: 0.0037\n",
            "Epoch 95/100\n",
            "12/12 [==============================] - 0s 20ms/step - loss: 7.0738e-05 - val_loss: 0.0039\n",
            "Epoch 96/100\n",
            "12/12 [==============================] - 0s 18ms/step - loss: 7.2555e-05 - val_loss: 0.0044\n",
            "Epoch 97/100\n",
            "12/12 [==============================] - 0s 19ms/step - loss: 7.2673e-05 - val_loss: 0.0038\n",
            "Epoch 98/100\n",
            "12/12 [==============================] - 0s 19ms/step - loss: 6.8951e-05 - val_loss: 0.0041\n",
            "Epoch 99/100\n",
            "12/12 [==============================] - 0s 19ms/step - loss: 7.0086e-05 - val_loss: 0.0038\n",
            "Epoch 100/100\n",
            "12/12 [==============================] - 0s 19ms/step - loss: 6.8879e-05 - val_loss: 0.0039\n"
          ],
          "name": "stdout"
        },
        {
          "output_type": "execute_result",
          "data": {
            "text/plain": [
              "<tensorflow.python.keras.callbacks.History at 0x7f4ba22ec610>"
            ]
          },
          "metadata": {
            "tags": []
          },
          "execution_count": 40
        }
      ]
    },
    {
      "cell_type": "code",
      "metadata": {
        "id": "5NkpqixV6bpS"
      },
      "source": [
        "# Lets do the prediction and check performance matrics\n",
        "train_predict = model.predict(X_train)\n",
        "test_predict = model.predict(X_test)"
      ],
      "execution_count": 41,
      "outputs": []
    },
    {
      "cell_type": "code",
      "metadata": {
        "id": "H07ZNvEM6bmO"
      },
      "source": [
        "# Transform back to original form\n",
        "train_predict = scaler.inverse_transform(train_predict)\n",
        "test_predict = scaler.inverse_transform(test_predict)"
      ],
      "execution_count": 42,
      "outputs": []
    },
    {
      "cell_type": "code",
      "metadata": {
        "colab": {
          "base_uri": "https://localhost:8080/"
        },
        "id": "aD7Vg7U_O6Z7",
        "outputId": "4550a4dd-a814-4260-9165-9ecda38e4a7e"
      },
      "source": [
        "# Accuracy score of the train model\n",
        "train_predict = model.predict(X_train)\n",
        "training_data_accuracy = r2_score(train_predict, Y_train)\n",
        "print(training_data_accuracy)"
      ],
      "execution_count": 71,
      "outputs": [
        {
          "output_type": "stream",
          "text": [
            "0.9866726910319864\n"
          ],
          "name": "stdout"
        }
      ]
    },
    {
      "cell_type": "code",
      "metadata": {
        "colab": {
          "base_uri": "https://localhost:8080/"
        },
        "id": "tALl2mjnSfs0",
        "outputId": "34486031-bd96-4645-ee79-bd0a44916278"
      },
      "source": [
        "# Accuracy score of the test model\n",
        "test_predict = model.predict(X_test)\n",
        "testing_data_accuracy = r2_score(test_predict, Y_test)\n",
        "print(testing_data_accuracy)"
      ],
      "execution_count": 72,
      "outputs": [
        {
          "output_type": "stream",
          "text": [
            "0.9374734194748512\n"
          ],
          "name": "stdout"
        }
      ]
    },
    {
      "cell_type": "code",
      "metadata": {
        "colab": {
          "base_uri": "https://localhost:8080/"
        },
        "id": "mCGYz-e56bjl",
        "outputId": "0fafd312-b86d-4150-e693-95f1599c4695"
      },
      "source": [
        "# Calculate RMSE performance matrics\n",
        "import math\n",
        "math.sqrt(mean_squared_error(Y_train, train_predict))"
      ],
      "execution_count": 43,
      "outputs": [
        {
          "output_type": "execute_result",
          "data": {
            "text/plain": [
              "168.79935687732677"
            ]
          },
          "metadata": {
            "tags": []
          },
          "execution_count": 43
        }
      ]
    },
    {
      "cell_type": "code",
      "metadata": {
        "colab": {
          "base_uri": "https://localhost:8080/"
        },
        "id": "MYeRM_z46bgR",
        "outputId": "ea1344f8-11dd-457c-ee96-3b9b12448f3e"
      },
      "source": [
        "# Test data RMSE\n",
        "math.sqrt(mean_squared_error(Y_test, test_predict))"
      ],
      "execution_count": 44,
      "outputs": [
        {
          "output_type": "execute_result",
          "data": {
            "text/plain": [
              "244.82046302786912"
            ]
          },
          "metadata": {
            "tags": []
          },
          "execution_count": 44
        }
      ]
    },
    {
      "cell_type": "code",
      "metadata": {
        "colab": {
          "base_uri": "https://localhost:8080/",
          "height": 265
        },
        "id": "OEVrMOTx6bdN",
        "outputId": "6712e247-e27f-494e-a7ec-acd191de95e6"
      },
      "source": [
        "# Shifting train predict for plotting\n",
        "look_back = 100\n",
        "Train_Predict_Plot = np.empty_like(df1)\n",
        "Train_Predict_Plot[:,:] = np.nan\n",
        "Train_Predict_Plot[look_back: len(train_predict)+look_back, :] = train_predict\n",
        "\n",
        "# Shifting train predict for plotting\n",
        "look_back = 100\n",
        "Test_Predict_Plot = np.empty_like(df1)\n",
        "Test_Predict_Plot[:,:] = np.nan\n",
        "Test_Predict_Plot[len(train_predict)+(look_back*2)+1 : len(df1)-1, : ] = test_predict\n",
        "\n",
        "# Plot baselines and predictions\n",
        "plt.plot(scaler.inverse_transform(df1))\n",
        "plt.plot(Train_Predict_Plot)\n",
        "plt.plot(Test_Predict_Plot)\n",
        "plt.show()"
      ],
      "execution_count": 45,
      "outputs": [
        {
          "output_type": "display_data",
          "data": {
            "image/png": "[encoded data removed]",
            "text/plain": [
              "<Figure size 432x288 with 1 Axes>"
            ]
          },
          "metadata": {
            "tags": [],
            "needs_background": "light"
          }
        }
      ]
    },
    {
      "cell_type": "code",
      "metadata": {
        "colab": {
          "base_uri": "https://localhost:8080/"
        },
        "id": "1MUghAsfEsuG",
        "outputId": "39bd68fa-762d-4318-fd23-a3ab98a26932"
      },
      "source": [
        "len(test_data)"
      ],
      "execution_count": 46,
      "outputs": [
        {
          "output_type": "execute_result",
          "data": {
            "text/plain": [
              "440"
            ]
          },
          "metadata": {
            "tags": []
          },
          "execution_count": 46
        }
      ]
    },
    {
      "cell_type": "code",
      "metadata": {
        "colab": {
          "base_uri": "https://localhost:8080/"
        },
        "id": "UfjCHh1w6baO",
        "outputId": "bfb4326a-e31c-4cb5-9c28-0079e2cbc590"
      },
      "source": [
        "# Predicting price for next 30 days\n",
        "X_input = test_data[340:].reshape(1,-1)\n",
        "X_input.shape"
      ],
      "execution_count": 48,
      "outputs": [
        {
          "output_type": "execute_result",
          "data": {
            "text/plain": [
              "(1, 100)"
            ]
          },
          "metadata": {
            "tags": []
          },
          "execution_count": 48
        }
      ]
    },
    {
      "cell_type": "code",
      "metadata": {
        "id": "zk8iZPR06bXL"
      },
      "source": [
        "temp_input = list(X_input)\n",
        "temp_input = temp_input[0].tolist()"
      ],
      "execution_count": 49,
      "outputs": []
    },
    {
      "cell_type": "code",
      "metadata": {
        "colab": {
          "base_uri": "https://localhost:8080/"
        },
        "id": "MTSs2wFJHZ_V",
        "outputId": "068f4474-2087-405e-e370-856409f97d17"
      },
      "source": [
        "temp_input"
      ],
      "execution_count": 50,
      "outputs": [
        {
          "output_type": "execute_result",
          "data": {
            "text/plain": [
              "[0.06905592303066743,\n",
              " 0.07788334335538183,\n",
              " 0.07874924834636199,\n",
              " 0.07841250751653633,\n",
              " 0.07675285628382439,\n",
              " 0.08036079374624172,\n",
              " 0.08187612748045697,\n",
              " 0.07562236921226695,\n",
              " 0.0791340950090198,\n",
              " 0.07713770294648226,\n",
              " 0.07562236921226695,\n",
              " 0.0902946482260974,\n",
              " 0.0901262778111846,\n",
              " 0.09226698737221883,\n",
              " 0.08734816596512324,\n",
              " 0.0911365003006614,\n",
              " 0.09991581479254358,\n",
              " 0.09770294648226097,\n",
              " 0.10013229104028859,\n",
              " 0.11148526758869509,\n",
              " 0.10710763680096214,\n",
              " 0.1043415514131088,\n",
              " 0.10186410102224891,\n",
              " 0.09397474443776305,\n",
              " 0.0978232110643415,\n",
              " 0.08721587492483462,\n",
              " 0.09760673481659649,\n",
              " 0.10032471437161755,\n",
              " 0.09294046903187009,\n",
              " 0.09250751653638006,\n",
              " 0.09753457606734811,\n",
              " 0.09277209861695729,\n",
              " 0.08851473241130486,\n",
              " 0.09017438364401681,\n",
              " 0.10027660853878534,\n",
              " 0.11191822008418523,\n",
              " 0.11720986169573056,\n",
              " 0.12647023451593503,\n",
              " 0.1270475045099218,\n",
              " 0.12440168370414911,\n",
              " 0.11244738424533973,\n",
              " 0.10010823812387254,\n",
              " 0.10535177390258565,\n",
              " 0.10739627179795552,\n",
              " 0.10487071557426336,\n",
              " 0.11316897173782314,\n",
              " 0.11165363800360789,\n",
              " 0.11201443174984965,\n",
              " 0.10984966927239925,\n",
              " 0.10835838845460005,\n",
              " 0.10773301262778107,\n",
              " 0.1083102826217679,\n",
              " 0.10306674684305472,\n",
              " 0.09741431148526758,\n",
              " 0.09469633193024657,\n",
              " 0.09508117859290438,\n",
              " 0.08577269993986769,\n",
              " 0.08543595911004209,\n",
              " 0.08420926037282017,\n",
              " 0.07372218881539383,\n",
              " 0.07437161755862898,\n",
              " 0.09007817197835238,\n",
              " 0.08365604329524956,\n",
              " 0.0762958508719182,\n",
              " 0.07165363800360791,\n",
              " 0.07475646422128684,\n",
              " 0.0625856885147324,\n",
              " 0.07395069152134692,\n",
              " 0.0712928442573662,\n",
              " 0.07605532170775703,\n",
              " 0.07381840048105831,\n",
              " 0.0809380637402285,\n",
              " 0.08473842453397473,\n",
              " 0.0827901383042694,\n",
              " 0.07261575466025255,\n",
              " 0.07131689717378231,\n",
              " 0.07949488875526156,\n",
              " 0.07745039085989175,\n",
              " 0.07155742633794349,\n",
              " 0.07276007215874924,\n",
              " 0.07425135297654839,\n",
              " 0.07468430547203847,\n",
              " 0.0711004209260373,\n",
              " 0.07651232711966327,\n",
              " 0.07855682501503308,\n",
              " 0.08553217077570657,\n",
              " 0.08627781118460609,\n",
              " 0.09034275405892966,\n",
              " 0.09625977149729409,\n",
              " 0.10259771497294046,\n",
              " 0.09837642814191222,\n",
              " 0.10604930847865301,\n",
              " 0.10027660853878534,\n",
              " 0.10621767889356581,\n",
              " 0.10539987973541787,\n",
              " 0.10703547805171376,\n",
              " 0.10287432351172582,\n",
              " 0.1038123872519543,\n",
              " 0.10006013229104027,\n",
              " 0.10578472639807573]"
            ]
          },
          "metadata": {
            "tags": []
          },
          "execution_count": 50
        }
      ]
    },
    {
      "cell_type": "code",
      "metadata": {
        "colab": {
          "base_uri": "https://localhost:8080/"
        },
        "id": "rBjblRUQGEYm",
        "outputId": "44566977-1237-4557-9e8e-64cf045b280f"
      },
      "source": [
        "# Demonstrate prediction of next 30 days\n",
        "lst_output = []\n",
        "n_step = 100\n",
        "i = 0\n",
        "while (i<30):\n",
        "  if (len(temp_input) > 100):\n",
        "    #print temp_input\n",
        "    X_input = np.array(temp_input[1:])\n",
        "    print(\"{} day input {}\".format(i, X_input))\n",
        "    X_input = X_input.reshape(1,-1)\n",
        "    X_input = X_input.reshape((1,n_step,1))\n",
        "    #print X_input\n",
        "    yhat = model.predict(X_input, verbose=0)\n",
        "    print(\"{} day input {}\".format(i, yhat))\n",
        "    temp_input.extend(yhat[0].tolist())\n",
        "    temp_input = temp_input[1:]\n",
        "    #print temp_input\n",
        "    lst_output.extend(yhat.tolist())\n",
        "    i = i+1\n",
        "  else:\n",
        "    X_input = X_input.reshape((1,n_step,1))\n",
        "    yhat = model.predict(X_input, verbose=0)\n",
        "    print(yhat[0])\n",
        "    temp_input.extend(yhat[0].tolist())\n",
        "    print(len(temp_input))\n",
        "    lst_output.extend(yhat.tolist())\n",
        "    i = i+1\n",
        "  \n",
        "print(lst_output)"
      ],
      "execution_count": 51,
      "outputs": [
        {
          "output_type": "stream",
          "text": [
            "[0.10251891]\n",
            "101\n",
            "1 day input [0.07788334 0.07874925 0.07841251 0.07675286 0.08036079 0.08187613\n",
            " 0.07562237 0.0791341  0.0771377  0.07562237 0.09029465 0.09012628\n",
            " 0.09226699 0.08734817 0.0911365  0.09991581 0.09770295 0.10013229\n",
            " 0.11148527 0.10710764 0.10434155 0.1018641  0.09397474 0.09782321\n",
            " 0.08721587 0.09760673 0.10032471 0.09294047 0.09250752 0.09753458\n",
            " 0.0927721  0.08851473 0.09017438 0.10027661 0.11191822 0.11720986\n",
            " 0.12647023 0.1270475  0.12440168 0.11244738 0.10010824 0.10535177\n",
            " 0.10739627 0.10487072 0.11316897 0.11165364 0.11201443 0.10984967\n",
            " 0.10835839 0.10773301 0.10831028 0.10306675 0.09741431 0.09469633\n",
            " 0.09508118 0.0857727  0.08543596 0.08420926 0.07372219 0.07437162\n",
            " 0.09007817 0.08365604 0.07629585 0.07165364 0.07475646 0.06258569\n",
            " 0.07395069 0.07129284 0.07605532 0.0738184  0.08093806 0.08473842\n",
            " 0.08279014 0.07261575 0.0713169  0.07949489 0.07745039 0.07155743\n",
            " 0.07276007 0.07425135 0.07468431 0.07110042 0.07651233 0.07855683\n",
            " 0.08553217 0.08627781 0.09034275 0.09625977 0.10259771 0.09837643\n",
            " 0.10604931 0.10027661 0.10621768 0.10539988 0.10703548 0.10287432\n",
            " 0.10381239 0.10006013 0.10578473 0.10251891]\n",
            "1 day input [[0.10268006]]\n",
            "2 day input [0.07874925 0.07841251 0.07675286 0.08036079 0.08187613 0.07562237\n",
            " 0.0791341  0.0771377  0.07562237 0.09029465 0.09012628 0.09226699\n",
            " 0.08734817 0.0911365  0.09991581 0.09770295 0.10013229 0.11148527\n",
            " 0.10710764 0.10434155 0.1018641  0.09397474 0.09782321 0.08721587\n",
            " 0.09760673 0.10032471 0.09294047 0.09250752 0.09753458 0.0927721\n",
            " 0.08851473 0.09017438 0.10027661 0.11191822 0.11720986 0.12647023\n",
            " 0.1270475  0.12440168 0.11244738 0.10010824 0.10535177 0.10739627\n",
            " 0.10487072 0.11316897 0.11165364 0.11201443 0.10984967 0.10835839\n",
            " 0.10773301 0.10831028 0.10306675 0.09741431 0.09469633 0.09508118\n",
            " 0.0857727  0.08543596 0.08420926 0.07372219 0.07437162 0.09007817\n",
            " 0.08365604 0.07629585 0.07165364 0.07475646 0.06258569 0.07395069\n",
            " 0.07129284 0.07605532 0.0738184  0.08093806 0.08473842 0.08279014\n",
            " 0.07261575 0.0713169  0.07949489 0.07745039 0.07155743 0.07276007\n",
            " 0.07425135 0.07468431 0.07110042 0.07651233 0.07855683 0.08553217\n",
            " 0.08627781 0.09034275 0.09625977 0.10259771 0.09837643 0.10604931\n",
            " 0.10027661 0.10621768 0.10539988 0.10703548 0.10287432 0.10381239\n",
            " 0.10006013 0.10578473 0.10251891 0.10268006]\n",
            "2 day input [[0.10288361]]\n",
            "3 day input [0.07841251 0.07675286 0.08036079 0.08187613 0.07562237 0.0791341\n",
            " 0.0771377  0.07562237 0.09029465 0.09012628 0.09226699 0.08734817\n",
            " 0.0911365  0.09991581 0.09770295 0.10013229 0.11148527 0.10710764\n",
            " 0.10434155 0.1018641  0.09397474 0.09782321 0.08721587 0.09760673\n",
            " 0.10032471 0.09294047 0.09250752 0.09753458 0.0927721  0.08851473\n",
            " 0.09017438 0.10027661 0.11191822 0.11720986 0.12647023 0.1270475\n",
            " 0.12440168 0.11244738 0.10010824 0.10535177 0.10739627 0.10487072\n",
            " 0.11316897 0.11165364 0.11201443 0.10984967 0.10835839 0.10773301\n",
            " 0.10831028 0.10306675 0.09741431 0.09469633 0.09508118 0.0857727\n",
            " 0.08543596 0.08420926 0.07372219 0.07437162 0.09007817 0.08365604\n",
            " 0.07629585 0.07165364 0.07475646 0.06258569 0.07395069 0.07129284\n",
            " 0.07605532 0.0738184  0.08093806 0.08473842 0.08279014 0.07261575\n",
            " 0.0713169  0.07949489 0.07745039 0.07155743 0.07276007 0.07425135\n",
            " 0.07468431 0.07110042 0.07651233 0.07855683 0.08553217 0.08627781\n",
            " 0.09034275 0.09625977 0.10259771 0.09837643 0.10604931 0.10027661\n",
            " 0.10621768 0.10539988 0.10703548 0.10287432 0.10381239 0.10006013\n",
            " 0.10578473 0.10251891 0.10268006 0.10288361]\n",
            "3 day input [[0.10312702]]\n",
            "4 day input [0.07675286 0.08036079 0.08187613 0.07562237 0.0791341  0.0771377\n",
            " 0.07562237 0.09029465 0.09012628 0.09226699 0.08734817 0.0911365\n",
            " 0.09991581 0.09770295 0.10013229 0.11148527 0.10710764 0.10434155\n",
            " 0.1018641  0.09397474 0.09782321 0.08721587 0.09760673 0.10032471\n",
            " 0.09294047 0.09250752 0.09753458 0.0927721  0.08851473 0.09017438\n",
            " 0.10027661 0.11191822 0.11720986 0.12647023 0.1270475  0.12440168\n",
            " 0.11244738 0.10010824 0.10535177 0.10739627 0.10487072 0.11316897\n",
            " 0.11165364 0.11201443 0.10984967 0.10835839 0.10773301 0.10831028\n",
            " 0.10306675 0.09741431 0.09469633 0.09508118 0.0857727  0.08543596\n",
            " 0.08420926 0.07372219 0.07437162 0.09007817 0.08365604 0.07629585\n",
            " 0.07165364 0.07475646 0.06258569 0.07395069 0.07129284 0.07605532\n",
            " 0.0738184  0.08093806 0.08473842 0.08279014 0.07261575 0.0713169\n",
            " 0.07949489 0.07745039 0.07155743 0.07276007 0.07425135 0.07468431\n",
            " 0.07110042 0.07651233 0.07855683 0.08553217 0.08627781 0.09034275\n",
            " 0.09625977 0.10259771 0.09837643 0.10604931 0.10027661 0.10621768\n",
            " 0.10539988 0.10703548 0.10287432 0.10381239 0.10006013 0.10578473\n",
            " 0.10251891 0.10268006 0.10288361 0.10312702]\n",
            "4 day input [[0.10342091]]\n",
            "5 day input [0.08036079 0.08187613 0.07562237 0.0791341  0.0771377  0.07562237\n",
            " 0.09029465 0.09012628 0.09226699 0.08734817 0.0911365  0.09991581\n",
            " 0.09770295 0.10013229 0.11148527 0.10710764 0.10434155 0.1018641\n",
            " 0.09397474 0.09782321 0.08721587 0.09760673 0.10032471 0.09294047\n",
            " 0.09250752 0.09753458 0.0927721  0.08851473 0.09017438 0.10027661\n",
            " 0.11191822 0.11720986 0.12647023 0.1270475  0.12440168 0.11244738\n",
            " 0.10010824 0.10535177 0.10739627 0.10487072 0.11316897 0.11165364\n",
            " 0.11201443 0.10984967 0.10835839 0.10773301 0.10831028 0.10306675\n",
            " 0.09741431 0.09469633 0.09508118 0.0857727  0.08543596 0.08420926\n",
            " 0.07372219 0.07437162 0.09007817 0.08365604 0.07629585 0.07165364\n",
            " 0.07475646 0.06258569 0.07395069 0.07129284 0.07605532 0.0738184\n",
            " 0.08093806 0.08473842 0.08279014 0.07261575 0.0713169  0.07949489\n",
            " 0.07745039 0.07155743 0.07276007 0.07425135 0.07468431 0.07110042\n",
            " 0.07651233 0.07855683 0.08553217 0.08627781 0.09034275 0.09625977\n",
            " 0.10259771 0.09837643 0.10604931 0.10027661 0.10621768 0.10539988\n",
            " 0.10703548 0.10287432 0.10381239 0.10006013 0.10578473 0.10251891\n",
            " 0.10268006 0.10288361 0.10312702 0.10342091]\n",
            "5 day input [[0.10376024]]\n",
            "6 day input [0.08187613 0.07562237 0.0791341  0.0771377  0.07562237 0.09029465\n",
            " 0.09012628 0.09226699 0.08734817 0.0911365  0.09991581 0.09770295\n",
            " 0.10013229 0.11148527 0.10710764 0.10434155 0.1018641  0.09397474\n",
            " 0.09782321 0.08721587 0.09760673 0.10032471 0.09294047 0.09250752\n",
            " 0.09753458 0.0927721  0.08851473 0.09017438 0.10027661 0.11191822\n",
            " 0.11720986 0.12647023 0.1270475  0.12440168 0.11244738 0.10010824\n",
            " 0.10535177 0.10739627 0.10487072 0.11316897 0.11165364 0.11201443\n",
            " 0.10984967 0.10835839 0.10773301 0.10831028 0.10306675 0.09741431\n",
            " 0.09469633 0.09508118 0.0857727  0.08543596 0.08420926 0.07372219\n",
            " 0.07437162 0.09007817 0.08365604 0.07629585 0.07165364 0.07475646\n",
            " 0.06258569 0.07395069 0.07129284 0.07605532 0.0738184  0.08093806\n",
            " 0.08473842 0.08279014 0.07261575 0.0713169  0.07949489 0.07745039\n",
            " 0.07155743 0.07276007 0.07425135 0.07468431 0.07110042 0.07651233\n",
            " 0.07855683 0.08553217 0.08627781 0.09034275 0.09625977 0.10259771\n",
            " 0.09837643 0.10604931 0.10027661 0.10621768 0.10539988 0.10703548\n",
            " 0.10287432 0.10381239 0.10006013 0.10578473 0.10251891 0.10268006\n",
            " 0.10288361 0.10312702 0.10342091 0.10376024]\n",
            "6 day input [[0.10412899]]\n",
            "7 day input [0.07562237 0.0791341  0.0771377  0.07562237 0.09029465 0.09012628\n",
            " 0.09226699 0.08734817 0.0911365  0.09991581 0.09770295 0.10013229\n",
            " 0.11148527 0.10710764 0.10434155 0.1018641  0.09397474 0.09782321\n",
            " 0.08721587 0.09760673 0.10032471 0.09294047 0.09250752 0.09753458\n",
            " 0.0927721  0.08851473 0.09017438 0.10027661 0.11191822 0.11720986\n",
            " 0.12647023 0.1270475  0.12440168 0.11244738 0.10010824 0.10535177\n",
            " 0.10739627 0.10487072 0.11316897 0.11165364 0.11201443 0.10984967\n",
            " 0.10835839 0.10773301 0.10831028 0.10306675 0.09741431 0.09469633\n",
            " 0.09508118 0.0857727  0.08543596 0.08420926 0.07372219 0.07437162\n",
            " 0.09007817 0.08365604 0.07629585 0.07165364 0.07475646 0.06258569\n",
            " 0.07395069 0.07129284 0.07605532 0.0738184  0.08093806 0.08473842\n",
            " 0.08279014 0.07261575 0.0713169  0.07949489 0.07745039 0.07155743\n",
            " 0.07276007 0.07425135 0.07468431 0.07110042 0.07651233 0.07855683\n",
            " 0.08553217 0.08627781 0.09034275 0.09625977 0.10259771 0.09837643\n",
            " 0.10604931 0.10027661 0.10621768 0.10539988 0.10703548 0.10287432\n",
            " 0.10381239 0.10006013 0.10578473 0.10251891 0.10268006 0.10288361\n",
            " 0.10312702 0.10342091 0.10376024 0.10412899]\n",
            "7 day input [[0.1045086]]\n",
            "8 day input [0.0791341  0.0771377  0.07562237 0.09029465 0.09012628 0.09226699\n",
            " 0.08734817 0.0911365  0.09991581 0.09770295 0.10013229 0.11148527\n",
            " 0.10710764 0.10434155 0.1018641  0.09397474 0.09782321 0.08721587\n",
            " 0.09760673 0.10032471 0.09294047 0.09250752 0.09753458 0.0927721\n",
            " 0.08851473 0.09017438 0.10027661 0.11191822 0.11720986 0.12647023\n",
            " 0.1270475  0.12440168 0.11244738 0.10010824 0.10535177 0.10739627\n",
            " 0.10487072 0.11316897 0.11165364 0.11201443 0.10984967 0.10835839\n",
            " 0.10773301 0.10831028 0.10306675 0.09741431 0.09469633 0.09508118\n",
            " 0.0857727  0.08543596 0.08420926 0.07372219 0.07437162 0.09007817\n",
            " 0.08365604 0.07629585 0.07165364 0.07475646 0.06258569 0.07395069\n",
            " 0.07129284 0.07605532 0.0738184  0.08093806 0.08473842 0.08279014\n",
            " 0.07261575 0.0713169  0.07949489 0.07745039 0.07155743 0.07276007\n",
            " 0.07425135 0.07468431 0.07110042 0.07651233 0.07855683 0.08553217\n",
            " 0.08627781 0.09034275 0.09625977 0.10259771 0.09837643 0.10604931\n",
            " 0.10027661 0.10621768 0.10539988 0.10703548 0.10287432 0.10381239\n",
            " 0.10006013 0.10578473 0.10251891 0.10268006 0.10288361 0.10312702\n",
            " 0.10342091 0.10376024 0.10412899 0.1045086 ]\n",
            "8 day input [[0.10488337]]\n",
            "9 day input [0.0771377  0.07562237 0.09029465 0.09012628 0.09226699 0.08734817\n",
            " 0.0911365  0.09991581 0.09770295 0.10013229 0.11148527 0.10710764\n",
            " 0.10434155 0.1018641  0.09397474 0.09782321 0.08721587 0.09760673\n",
            " 0.10032471 0.09294047 0.09250752 0.09753458 0.0927721  0.08851473\n",
            " 0.09017438 0.10027661 0.11191822 0.11720986 0.12647023 0.1270475\n",
            " 0.12440168 0.11244738 0.10010824 0.10535177 0.10739627 0.10487072\n",
            " 0.11316897 0.11165364 0.11201443 0.10984967 0.10835839 0.10773301\n",
            " 0.10831028 0.10306675 0.09741431 0.09469633 0.09508118 0.0857727\n",
            " 0.08543596 0.08420926 0.07372219 0.07437162 0.09007817 0.08365604\n",
            " 0.07629585 0.07165364 0.07475646 0.06258569 0.07395069 0.07129284\n",
            " 0.07605532 0.0738184  0.08093806 0.08473842 0.08279014 0.07261575\n",
            " 0.0713169  0.07949489 0.07745039 0.07155743 0.07276007 0.07425135\n",
            " 0.07468431 0.07110042 0.07651233 0.07855683 0.08553217 0.08627781\n",
            " 0.09034275 0.09625977 0.10259771 0.09837643 0.10604931 0.10027661\n",
            " 0.10621768 0.10539988 0.10703548 0.10287432 0.10381239 0.10006013\n",
            " 0.10578473 0.10251891 0.10268006 0.10288361 0.10312702 0.10342091\n",
            " 0.10376024 0.10412899 0.1045086  0.10488337]\n",
            "9 day input [[0.10524223]]\n",
            "10 day input [0.07562237 0.09029465 0.09012628 0.09226699 0.08734817 0.0911365\n",
            " 0.09991581 0.09770295 0.10013229 0.11148527 0.10710764 0.10434155\n",
            " 0.1018641  0.09397474 0.09782321 0.08721587 0.09760673 0.10032471\n",
            " 0.09294047 0.09250752 0.09753458 0.0927721  0.08851473 0.09017438\n",
            " 0.10027661 0.11191822 0.11720986 0.12647023 0.1270475  0.12440168\n",
            " 0.11244738 0.10010824 0.10535177 0.10739627 0.10487072 0.11316897\n",
            " 0.11165364 0.11201443 0.10984967 0.10835839 0.10773301 0.10831028\n",
            " 0.10306675 0.09741431 0.09469633 0.09508118 0.0857727  0.08543596\n",
            " 0.08420926 0.07372219 0.07437162 0.09007817 0.08365604 0.07629585\n",
            " 0.07165364 0.07475646 0.06258569 0.07395069 0.07129284 0.07605532\n",
            " 0.0738184  0.08093806 0.08473842 0.08279014 0.07261575 0.0713169\n",
            " 0.07949489 0.07745039 0.07155743 0.07276007 0.07425135 0.07468431\n",
            " 0.07110042 0.07651233 0.07855683 0.08553217 0.08627781 0.09034275\n",
            " 0.09625977 0.10259771 0.09837643 0.10604931 0.10027661 0.10621768\n",
            " 0.10539988 0.10703548 0.10287432 0.10381239 0.10006013 0.10578473\n",
            " 0.10251891 0.10268006 0.10288361 0.10312702 0.10342091 0.10376024\n",
            " 0.10412899 0.1045086  0.10488337 0.10524223]\n",
            "10 day input [[0.10557903]]\n",
            "11 day input [0.09029465 0.09012628 0.09226699 0.08734817 0.0911365  0.09991581\n",
            " 0.09770295 0.10013229 0.11148527 0.10710764 0.10434155 0.1018641\n",
            " 0.09397474 0.09782321 0.08721587 0.09760673 0.10032471 0.09294047\n",
            " 0.09250752 0.09753458 0.0927721  0.08851473 0.09017438 0.10027661\n",
            " 0.11191822 0.11720986 0.12647023 0.1270475  0.12440168 0.11244738\n",
            " 0.10010824 0.10535177 0.10739627 0.10487072 0.11316897 0.11165364\n",
            " 0.11201443 0.10984967 0.10835839 0.10773301 0.10831028 0.10306675\n",
            " 0.09741431 0.09469633 0.09508118 0.0857727  0.08543596 0.08420926\n",
            " 0.07372219 0.07437162 0.09007817 0.08365604 0.07629585 0.07165364\n",
            " 0.07475646 0.06258569 0.07395069 0.07129284 0.07605532 0.0738184\n",
            " 0.08093806 0.08473842 0.08279014 0.07261575 0.0713169  0.07949489\n",
            " 0.07745039 0.07155743 0.07276007 0.07425135 0.07468431 0.07110042\n",
            " 0.07651233 0.07855683 0.08553217 0.08627781 0.09034275 0.09625977\n",
            " 0.10259771 0.09837643 0.10604931 0.10027661 0.10621768 0.10539988\n",
            " 0.10703548 0.10287432 0.10381239 0.10006013 0.10578473 0.10251891\n",
            " 0.10268006 0.10288361 0.10312702 0.10342091 0.10376024 0.10412899\n",
            " 0.1045086  0.10488337 0.10524223 0.10557903]\n",
            "11 day input [[0.10589176]]\n",
            "12 day input [0.09012628 0.09226699 0.08734817 0.0911365  0.09991581 0.09770295\n",
            " 0.10013229 0.11148527 0.10710764 0.10434155 0.1018641  0.09397474\n",
            " 0.09782321 0.08721587 0.09760673 0.10032471 0.09294047 0.09250752\n",
            " 0.09753458 0.0927721  0.08851473 0.09017438 0.10027661 0.11191822\n",
            " 0.11720986 0.12647023 0.1270475  0.12440168 0.11244738 0.10010824\n",
            " 0.10535177 0.10739627 0.10487072 0.11316897 0.11165364 0.11201443\n",
            " 0.10984967 0.10835839 0.10773301 0.10831028 0.10306675 0.09741431\n",
            " 0.09469633 0.09508118 0.0857727  0.08543596 0.08420926 0.07372219\n",
            " 0.07437162 0.09007817 0.08365604 0.07629585 0.07165364 0.07475646\n",
            " 0.06258569 0.07395069 0.07129284 0.07605532 0.0738184  0.08093806\n",
            " 0.08473842 0.08279014 0.07261575 0.0713169  0.07949489 0.07745039\n",
            " 0.07155743 0.07276007 0.07425135 0.07468431 0.07110042 0.07651233\n",
            " 0.07855683 0.08553217 0.08627781 0.09034275 0.09625977 0.10259771\n",
            " 0.09837643 0.10604931 0.10027661 0.10621768 0.10539988 0.10703548\n",
            " 0.10287432 0.10381239 0.10006013 0.10578473 0.10251891 0.10268006\n",
            " 0.10288361 0.10312702 0.10342091 0.10376024 0.10412899 0.1045086\n",
            " 0.10488337 0.10524223 0.10557903 0.10589176]\n",
            "12 day input [[0.10618165]]\n",
            "13 day input [0.09226699 0.08734817 0.0911365  0.09991581 0.09770295 0.10013229\n",
            " 0.11148527 0.10710764 0.10434155 0.1018641  0.09397474 0.09782321\n",
            " 0.08721587 0.09760673 0.10032471 0.09294047 0.09250752 0.09753458\n",
            " 0.0927721  0.08851473 0.09017438 0.10027661 0.11191822 0.11720986\n",
            " 0.12647023 0.1270475  0.12440168 0.11244738 0.10010824 0.10535177\n",
            " 0.10739627 0.10487072 0.11316897 0.11165364 0.11201443 0.10984967\n",
            " 0.10835839 0.10773301 0.10831028 0.10306675 0.09741431 0.09469633\n",
            " 0.09508118 0.0857727  0.08543596 0.08420926 0.07372219 0.07437162\n",
            " 0.09007817 0.08365604 0.07629585 0.07165364 0.07475646 0.06258569\n",
            " 0.07395069 0.07129284 0.07605532 0.0738184  0.08093806 0.08473842\n",
            " 0.08279014 0.07261575 0.0713169  0.07949489 0.07745039 0.07155743\n",
            " 0.07276007 0.07425135 0.07468431 0.07110042 0.07651233 0.07855683\n",
            " 0.08553217 0.08627781 0.09034275 0.09625977 0.10259771 0.09837643\n",
            " 0.10604931 0.10027661 0.10621768 0.10539988 0.10703548 0.10287432\n",
            " 0.10381239 0.10006013 0.10578473 0.10251891 0.10268006 0.10288361\n",
            " 0.10312702 0.10342091 0.10376024 0.10412899 0.1045086  0.10488337\n",
            " 0.10524223 0.10557903 0.10589176 0.10618165]\n",
            "13 day input [[0.10645213]]\n",
            "14 day input [0.08734817 0.0911365  0.09991581 0.09770295 0.10013229 0.11148527\n",
            " 0.10710764 0.10434155 0.1018641  0.09397474 0.09782321 0.08721587\n",
            " 0.09760673 0.10032471 0.09294047 0.09250752 0.09753458 0.0927721\n",
            " 0.08851473 0.09017438 0.10027661 0.11191822 0.11720986 0.12647023\n",
            " 0.1270475  0.12440168 0.11244738 0.10010824 0.10535177 0.10739627\n",
            " 0.10487072 0.11316897 0.11165364 0.11201443 0.10984967 0.10835839\n",
            " 0.10773301 0.10831028 0.10306675 0.09741431 0.09469633 0.09508118\n",
            " 0.0857727  0.08543596 0.08420926 0.07372219 0.07437162 0.09007817\n",
            " 0.08365604 0.07629585 0.07165364 0.07475646 0.06258569 0.07395069\n",
            " 0.07129284 0.07605532 0.0738184  0.08093806 0.08473842 0.08279014\n",
            " 0.07261575 0.0713169  0.07949489 0.07745039 0.07155743 0.07276007\n",
            " 0.07425135 0.07468431 0.07110042 0.07651233 0.07855683 0.08553217\n",
            " 0.08627781 0.09034275 0.09625977 0.10259771 0.09837643 0.10604931\n",
            " 0.10027661 0.10621768 0.10539988 0.10703548 0.10287432 0.10381239\n",
            " 0.10006013 0.10578473 0.10251891 0.10268006 0.10288361 0.10312702\n",
            " 0.10342091 0.10376024 0.10412899 0.1045086  0.10488337 0.10524223\n",
            " 0.10557903 0.10589176 0.10618165 0.10645213]\n",
            "14 day input [[0.10670786]]\n",
            "15 day input [0.0911365  0.09991581 0.09770295 0.10013229 0.11148527 0.10710764\n",
            " 0.10434155 0.1018641  0.09397474 0.09782321 0.08721587 0.09760673\n",
            " 0.10032471 0.09294047 0.09250752 0.09753458 0.0927721  0.08851473\n",
            " 0.09017438 0.10027661 0.11191822 0.11720986 0.12647023 0.1270475\n",
            " 0.12440168 0.11244738 0.10010824 0.10535177 0.10739627 0.10487072\n",
            " 0.11316897 0.11165364 0.11201443 0.10984967 0.10835839 0.10773301\n",
            " 0.10831028 0.10306675 0.09741431 0.09469633 0.09508118 0.0857727\n",
            " 0.08543596 0.08420926 0.07372219 0.07437162 0.09007817 0.08365604\n",
            " 0.07629585 0.07165364 0.07475646 0.06258569 0.07395069 0.07129284\n",
            " 0.07605532 0.0738184  0.08093806 0.08473842 0.08279014 0.07261575\n",
            " 0.0713169  0.07949489 0.07745039 0.07155743 0.07276007 0.07425135\n",
            " 0.07468431 0.07110042 0.07651233 0.07855683 0.08553217 0.08627781\n",
            " 0.09034275 0.09625977 0.10259771 0.09837643 0.10604931 0.10027661\n",
            " 0.10621768 0.10539988 0.10703548 0.10287432 0.10381239 0.10006013\n",
            " 0.10578473 0.10251891 0.10268006 0.10288361 0.10312702 0.10342091\n",
            " 0.10376024 0.10412899 0.1045086  0.10488337 0.10524223 0.10557903\n",
            " 0.10589176 0.10618165 0.10645213 0.10670786]\n",
            "15 day input [[0.10695392]]\n",
            "16 day input [0.09991581 0.09770295 0.10013229 0.11148527 0.10710764 0.10434155\n",
            " 0.1018641  0.09397474 0.09782321 0.08721587 0.09760673 0.10032471\n",
            " 0.09294047 0.09250752 0.09753458 0.0927721  0.08851473 0.09017438\n",
            " 0.10027661 0.11191822 0.11720986 0.12647023 0.1270475  0.12440168\n",
            " 0.11244738 0.10010824 0.10535177 0.10739627 0.10487072 0.11316897\n",
            " 0.11165364 0.11201443 0.10984967 0.10835839 0.10773301 0.10831028\n",
            " 0.10306675 0.09741431 0.09469633 0.09508118 0.0857727  0.08543596\n",
            " 0.08420926 0.07372219 0.07437162 0.09007817 0.08365604 0.07629585\n",
            " 0.07165364 0.07475646 0.06258569 0.07395069 0.07129284 0.07605532\n",
            " 0.0738184  0.08093806 0.08473842 0.08279014 0.07261575 0.0713169\n",
            " 0.07949489 0.07745039 0.07155743 0.07276007 0.07425135 0.07468431\n",
            " 0.07110042 0.07651233 0.07855683 0.08553217 0.08627781 0.09034275\n",
            " 0.09625977 0.10259771 0.09837643 0.10604931 0.10027661 0.10621768\n",
            " 0.10539988 0.10703548 0.10287432 0.10381239 0.10006013 0.10578473\n",
            " 0.10251891 0.10268006 0.10288361 0.10312702 0.10342091 0.10376024\n",
            " 0.10412899 0.1045086  0.10488337 0.10524223 0.10557903 0.10589176\n",
            " 0.10618165 0.10645213 0.10670786 0.10695392]\n",
            "16 day input [[0.10719518]]\n",
            "17 day input [0.09770295 0.10013229 0.11148527 0.10710764 0.10434155 0.1018641\n",
            " 0.09397474 0.09782321 0.08721587 0.09760673 0.10032471 0.09294047\n",
            " 0.09250752 0.09753458 0.0927721  0.08851473 0.09017438 0.10027661\n",
            " 0.11191822 0.11720986 0.12647023 0.1270475  0.12440168 0.11244738\n",
            " 0.10010824 0.10535177 0.10739627 0.10487072 0.11316897 0.11165364\n",
            " 0.11201443 0.10984967 0.10835839 0.10773301 0.10831028 0.10306675\n",
            " 0.09741431 0.09469633 0.09508118 0.0857727  0.08543596 0.08420926\n",
            " 0.07372219 0.07437162 0.09007817 0.08365604 0.07629585 0.07165364\n",
            " 0.07475646 0.06258569 0.07395069 0.07129284 0.07605532 0.0738184\n",
            " 0.08093806 0.08473842 0.08279014 0.07261575 0.0713169  0.07949489\n",
            " 0.07745039 0.07155743 0.07276007 0.07425135 0.07468431 0.07110042\n",
            " 0.07651233 0.07855683 0.08553217 0.08627781 0.09034275 0.09625977\n",
            " 0.10259771 0.09837643 0.10604931 0.10027661 0.10621768 0.10539988\n",
            " 0.10703548 0.10287432 0.10381239 0.10006013 0.10578473 0.10251891\n",
            " 0.10268006 0.10288361 0.10312702 0.10342091 0.10376024 0.10412899\n",
            " 0.1045086  0.10488337 0.10524223 0.10557903 0.10589176 0.10618165\n",
            " 0.10645213 0.10670786 0.10695392 0.10719518]\n",
            "17 day input [[0.10743584]]\n",
            "18 day input [0.10013229 0.11148527 0.10710764 0.10434155 0.1018641  0.09397474\n",
            " 0.09782321 0.08721587 0.09760673 0.10032471 0.09294047 0.09250752\n",
            " 0.09753458 0.0927721  0.08851473 0.09017438 0.10027661 0.11191822\n",
            " 0.11720986 0.12647023 0.1270475  0.12440168 0.11244738 0.10010824\n",
            " 0.10535177 0.10739627 0.10487072 0.11316897 0.11165364 0.11201443\n",
            " 0.10984967 0.10835839 0.10773301 0.10831028 0.10306675 0.09741431\n",
            " 0.09469633 0.09508118 0.0857727  0.08543596 0.08420926 0.07372219\n",
            " 0.07437162 0.09007817 0.08365604 0.07629585 0.07165364 0.07475646\n",
            " 0.06258569 0.07395069 0.07129284 0.07605532 0.0738184  0.08093806\n",
            " 0.08473842 0.08279014 0.07261575 0.0713169  0.07949489 0.07745039\n",
            " 0.07155743 0.07276007 0.07425135 0.07468431 0.07110042 0.07651233\n",
            " 0.07855683 0.08553217 0.08627781 0.09034275 0.09625977 0.10259771\n",
            " 0.09837643 0.10604931 0.10027661 0.10621768 0.10539988 0.10703548\n",
            " 0.10287432 0.10381239 0.10006013 0.10578473 0.10251891 0.10268006\n",
            " 0.10288361 0.10312702 0.10342091 0.10376024 0.10412899 0.1045086\n",
            " 0.10488337 0.10524223 0.10557903 0.10589176 0.10618165 0.10645213\n",
            " 0.10670786 0.10695392 0.10719518 0.10743584]\n",
            "18 day input [[0.10767919]]\n",
            "19 day input [0.11148527 0.10710764 0.10434155 0.1018641  0.09397474 0.09782321\n",
            " 0.08721587 0.09760673 0.10032471 0.09294047 0.09250752 0.09753458\n",
            " 0.0927721  0.08851473 0.09017438 0.10027661 0.11191822 0.11720986\n",
            " 0.12647023 0.1270475  0.12440168 0.11244738 0.10010824 0.10535177\n",
            " 0.10739627 0.10487072 0.11316897 0.11165364 0.11201443 0.10984967\n",
            " 0.10835839 0.10773301 0.10831028 0.10306675 0.09741431 0.09469633\n",
            " 0.09508118 0.0857727  0.08543596 0.08420926 0.07372219 0.07437162\n",
            " 0.09007817 0.08365604 0.07629585 0.07165364 0.07475646 0.06258569\n",
            " 0.07395069 0.07129284 0.07605532 0.0738184  0.08093806 0.08473842\n",
            " 0.08279014 0.07261575 0.0713169  0.07949489 0.07745039 0.07155743\n",
            " 0.07276007 0.07425135 0.07468431 0.07110042 0.07651233 0.07855683\n",
            " 0.08553217 0.08627781 0.09034275 0.09625977 0.10259771 0.09837643\n",
            " 0.10604931 0.10027661 0.10621768 0.10539988 0.10703548 0.10287432\n",
            " 0.10381239 0.10006013 0.10578473 0.10251891 0.10268006 0.10288361\n",
            " 0.10312702 0.10342091 0.10376024 0.10412899 0.1045086  0.10488337\n",
            " 0.10524223 0.10557903 0.10589176 0.10618165 0.10645213 0.10670786\n",
            " 0.10695392 0.10719518 0.10743584 0.10767919]\n",
            "19 day input [[0.10792746]]\n",
            "20 day input [0.10710764 0.10434155 0.1018641  0.09397474 0.09782321 0.08721587\n",
            " 0.09760673 0.10032471 0.09294047 0.09250752 0.09753458 0.0927721\n",
            " 0.08851473 0.09017438 0.10027661 0.11191822 0.11720986 0.12647023\n",
            " 0.1270475  0.12440168 0.11244738 0.10010824 0.10535177 0.10739627\n",
            " 0.10487072 0.11316897 0.11165364 0.11201443 0.10984967 0.10835839\n",
            " 0.10773301 0.10831028 0.10306675 0.09741431 0.09469633 0.09508118\n",
            " 0.0857727  0.08543596 0.08420926 0.07372219 0.07437162 0.09007817\n",
            " 0.08365604 0.07629585 0.07165364 0.07475646 0.06258569 0.07395069\n",
            " 0.07129284 0.07605532 0.0738184  0.08093806 0.08473842 0.08279014\n",
            " 0.07261575 0.0713169  0.07949489 0.07745039 0.07155743 0.07276007\n",
            " 0.07425135 0.07468431 0.07110042 0.07651233 0.07855683 0.08553217\n",
            " 0.08627781 0.09034275 0.09625977 0.10259771 0.09837643 0.10604931\n",
            " 0.10027661 0.10621768 0.10539988 0.10703548 0.10287432 0.10381239\n",
            " 0.10006013 0.10578473 0.10251891 0.10268006 0.10288361 0.10312702\n",
            " 0.10342091 0.10376024 0.10412899 0.1045086  0.10488337 0.10524223\n",
            " 0.10557903 0.10589176 0.10618165 0.10645213 0.10670786 0.10695392\n",
            " 0.10719518 0.10743584 0.10767919 0.10792746]\n",
            "20 day input [[0.10818191]]\n",
            "21 day input [0.10434155 0.1018641  0.09397474 0.09782321 0.08721587 0.09760673\n",
            " 0.10032471 0.09294047 0.09250752 0.09753458 0.0927721  0.08851473\n",
            " 0.09017438 0.10027661 0.11191822 0.11720986 0.12647023 0.1270475\n",
            " 0.12440168 0.11244738 0.10010824 0.10535177 0.10739627 0.10487072\n",
            " 0.11316897 0.11165364 0.11201443 0.10984967 0.10835839 0.10773301\n",
            " 0.10831028 0.10306675 0.09741431 0.09469633 0.09508118 0.0857727\n",
            " 0.08543596 0.08420926 0.07372219 0.07437162 0.09007817 0.08365604\n",
            " 0.07629585 0.07165364 0.07475646 0.06258569 0.07395069 0.07129284\n",
            " 0.07605532 0.0738184  0.08093806 0.08473842 0.08279014 0.07261575\n",
            " 0.0713169  0.07949489 0.07745039 0.07155743 0.07276007 0.07425135\n",
            " 0.07468431 0.07110042 0.07651233 0.07855683 0.08553217 0.08627781\n",
            " 0.09034275 0.09625977 0.10259771 0.09837643 0.10604931 0.10027661\n",
            " 0.10621768 0.10539988 0.10703548 0.10287432 0.10381239 0.10006013\n",
            " 0.10578473 0.10251891 0.10268006 0.10288361 0.10312702 0.10342091\n",
            " 0.10376024 0.10412899 0.1045086  0.10488337 0.10524223 0.10557903\n",
            " 0.10589176 0.10618165 0.10645213 0.10670786 0.10695392 0.10719518\n",
            " 0.10743584 0.10767919 0.10792746 0.10818191]\n",
            "21 day input [[0.10844288]]\n",
            "22 day input [0.1018641  0.09397474 0.09782321 0.08721587 0.09760673 0.10032471\n",
            " 0.09294047 0.09250752 0.09753458 0.0927721  0.08851473 0.09017438\n",
            " 0.10027661 0.11191822 0.11720986 0.12647023 0.1270475  0.12440168\n",
            " 0.11244738 0.10010824 0.10535177 0.10739627 0.10487072 0.11316897\n",
            " 0.11165364 0.11201443 0.10984967 0.10835839 0.10773301 0.10831028\n",
            " 0.10306675 0.09741431 0.09469633 0.09508118 0.0857727  0.08543596\n",
            " 0.08420926 0.07372219 0.07437162 0.09007817 0.08365604 0.07629585\n",
            " 0.07165364 0.07475646 0.06258569 0.07395069 0.07129284 0.07605532\n",
            " 0.0738184  0.08093806 0.08473842 0.08279014 0.07261575 0.0713169\n",
            " 0.07949489 0.07745039 0.07155743 0.07276007 0.07425135 0.07468431\n",
            " 0.07110042 0.07651233 0.07855683 0.08553217 0.08627781 0.09034275\n",
            " 0.09625977 0.10259771 0.09837643 0.10604931 0.10027661 0.10621768\n",
            " 0.10539988 0.10703548 0.10287432 0.10381239 0.10006013 0.10578473\n",
            " 0.10251891 0.10268006 0.10288361 0.10312702 0.10342091 0.10376024\n",
            " 0.10412899 0.1045086  0.10488337 0.10524223 0.10557903 0.10589176\n",
            " 0.10618165 0.10645213 0.10670786 0.10695392 0.10719518 0.10743584\n",
            " 0.10767919 0.10792746 0.10818191 0.10844288]\n",
            "22 day input [[0.10871008]]\n",
            "23 day input [0.09397474 0.09782321 0.08721587 0.09760673 0.10032471 0.09294047\n",
            " 0.09250752 0.09753458 0.0927721  0.08851473 0.09017438 0.10027661\n",
            " 0.11191822 0.11720986 0.12647023 0.1270475  0.12440168 0.11244738\n",
            " 0.10010824 0.10535177 0.10739627 0.10487072 0.11316897 0.11165364\n",
            " 0.11201443 0.10984967 0.10835839 0.10773301 0.10831028 0.10306675\n",
            " 0.09741431 0.09469633 0.09508118 0.0857727  0.08543596 0.08420926\n",
            " 0.07372219 0.07437162 0.09007817 0.08365604 0.07629585 0.07165364\n",
            " 0.07475646 0.06258569 0.07395069 0.07129284 0.07605532 0.0738184\n",
            " 0.08093806 0.08473842 0.08279014 0.07261575 0.0713169  0.07949489\n",
            " 0.07745039 0.07155743 0.07276007 0.07425135 0.07468431 0.07110042\n",
            " 0.07651233 0.07855683 0.08553217 0.08627781 0.09034275 0.09625977\n",
            " 0.10259771 0.09837643 0.10604931 0.10027661 0.10621768 0.10539988\n",
            " 0.10703548 0.10287432 0.10381239 0.10006013 0.10578473 0.10251891\n",
            " 0.10268006 0.10288361 0.10312702 0.10342091 0.10376024 0.10412899\n",
            " 0.1045086  0.10488337 0.10524223 0.10557903 0.10589176 0.10618165\n",
            " 0.10645213 0.10670786 0.10695392 0.10719518 0.10743584 0.10767919\n",
            " 0.10792746 0.10818191 0.10844288 0.10871008]\n",
            "23 day input [[0.10898269]]\n",
            "24 day input [0.09782321 0.08721587 0.09760673 0.10032471 0.09294047 0.09250752\n",
            " 0.09753458 0.0927721  0.08851473 0.09017438 0.10027661 0.11191822\n",
            " 0.11720986 0.12647023 0.1270475  0.12440168 0.11244738 0.10010824\n",
            " 0.10535177 0.10739627 0.10487072 0.11316897 0.11165364 0.11201443\n",
            " 0.10984967 0.10835839 0.10773301 0.10831028 0.10306675 0.09741431\n",
            " 0.09469633 0.09508118 0.0857727  0.08543596 0.08420926 0.07372219\n",
            " 0.07437162 0.09007817 0.08365604 0.07629585 0.07165364 0.07475646\n",
            " 0.06258569 0.07395069 0.07129284 0.07605532 0.0738184  0.08093806\n",
            " 0.08473842 0.08279014 0.07261575 0.0713169  0.07949489 0.07745039\n",
            " 0.07155743 0.07276007 0.07425135 0.07468431 0.07110042 0.07651233\n",
            " 0.07855683 0.08553217 0.08627781 0.09034275 0.09625977 0.10259771\n",
            " 0.09837643 0.10604931 0.10027661 0.10621768 0.10539988 0.10703548\n",
            " 0.10287432 0.10381239 0.10006013 0.10578473 0.10251891 0.10268006\n",
            " 0.10288361 0.10312702 0.10342091 0.10376024 0.10412899 0.1045086\n",
            " 0.10488337 0.10524223 0.10557903 0.10589176 0.10618165 0.10645213\n",
            " 0.10670786 0.10695392 0.10719518 0.10743584 0.10767919 0.10792746\n",
            " 0.10818191 0.10844288 0.10871008 0.10898269]\n",
            "24 day input [[0.10925955]]\n",
            "25 day input [0.08721587 0.09760673 0.10032471 0.09294047 0.09250752 0.09753458\n",
            " 0.0927721  0.08851473 0.09017438 0.10027661 0.11191822 0.11720986\n",
            " 0.12647023 0.1270475  0.12440168 0.11244738 0.10010824 0.10535177\n",
            " 0.10739627 0.10487072 0.11316897 0.11165364 0.11201443 0.10984967\n",
            " 0.10835839 0.10773301 0.10831028 0.10306675 0.09741431 0.09469633\n",
            " 0.09508118 0.0857727  0.08543596 0.08420926 0.07372219 0.07437162\n",
            " 0.09007817 0.08365604 0.07629585 0.07165364 0.07475646 0.06258569\n",
            " 0.07395069 0.07129284 0.07605532 0.0738184  0.08093806 0.08473842\n",
            " 0.08279014 0.07261575 0.0713169  0.07949489 0.07745039 0.07155743\n",
            " 0.07276007 0.07425135 0.07468431 0.07110042 0.07651233 0.07855683\n",
            " 0.08553217 0.08627781 0.09034275 0.09625977 0.10259771 0.09837643\n",
            " 0.10604931 0.10027661 0.10621768 0.10539988 0.10703548 0.10287432\n",
            " 0.10381239 0.10006013 0.10578473 0.10251891 0.10268006 0.10288361\n",
            " 0.10312702 0.10342091 0.10376024 0.10412899 0.1045086  0.10488337\n",
            " 0.10524223 0.10557903 0.10589176 0.10618165 0.10645213 0.10670786\n",
            " 0.10695392 0.10719518 0.10743584 0.10767919 0.10792746 0.10818191\n",
            " 0.10844288 0.10871008 0.10898269 0.10925955]\n",
            "25 day input [[0.10953952]]\n",
            "26 day input [0.09760673 0.10032471 0.09294047 0.09250752 0.09753458 0.0927721\n",
            " 0.08851473 0.09017438 0.10027661 0.11191822 0.11720986 0.12647023\n",
            " 0.1270475  0.12440168 0.11244738 0.10010824 0.10535177 0.10739627\n",
            " 0.10487072 0.11316897 0.11165364 0.11201443 0.10984967 0.10835839\n",
            " 0.10773301 0.10831028 0.10306675 0.09741431 0.09469633 0.09508118\n",
            " 0.0857727  0.08543596 0.08420926 0.07372219 0.07437162 0.09007817\n",
            " 0.08365604 0.07629585 0.07165364 0.07475646 0.06258569 0.07395069\n",
            " 0.07129284 0.07605532 0.0738184  0.08093806 0.08473842 0.08279014\n",
            " 0.07261575 0.0713169  0.07949489 0.07745039 0.07155743 0.07276007\n",
            " 0.07425135 0.07468431 0.07110042 0.07651233 0.07855683 0.08553217\n",
            " 0.08627781 0.09034275 0.09625977 0.10259771 0.09837643 0.10604931\n",
            " 0.10027661 0.10621768 0.10539988 0.10703548 0.10287432 0.10381239\n",
            " 0.10006013 0.10578473 0.10251891 0.10268006 0.10288361 0.10312702\n",
            " 0.10342091 0.10376024 0.10412899 0.1045086  0.10488337 0.10524223\n",
            " 0.10557903 0.10589176 0.10618165 0.10645213 0.10670786 0.10695392\n",
            " 0.10719518 0.10743584 0.10767919 0.10792746 0.10818191 0.10844288\n",
            " 0.10871008 0.10898269 0.10925955 0.10953952]\n",
            "26 day input [[0.10982134]]\n",
            "27 day input [0.10032471 0.09294047 0.09250752 0.09753458 0.0927721  0.08851473\n",
            " 0.09017438 0.10027661 0.11191822 0.11720986 0.12647023 0.1270475\n",
            " 0.12440168 0.11244738 0.10010824 0.10535177 0.10739627 0.10487072\n",
            " 0.11316897 0.11165364 0.11201443 0.10984967 0.10835839 0.10773301\n",
            " 0.10831028 0.10306675 0.09741431 0.09469633 0.09508118 0.0857727\n",
            " 0.08543596 0.08420926 0.07372219 0.07437162 0.09007817 0.08365604\n",
            " 0.07629585 0.07165364 0.07475646 0.06258569 0.07395069 0.07129284\n",
            " 0.07605532 0.0738184  0.08093806 0.08473842 0.08279014 0.07261575\n",
            " 0.0713169  0.07949489 0.07745039 0.07155743 0.07276007 0.07425135\n",
            " 0.07468431 0.07110042 0.07651233 0.07855683 0.08553217 0.08627781\n",
            " 0.09034275 0.09625977 0.10259771 0.09837643 0.10604931 0.10027661\n",
            " 0.10621768 0.10539988 0.10703548 0.10287432 0.10381239 0.10006013\n",
            " 0.10578473 0.10251891 0.10268006 0.10288361 0.10312702 0.10342091\n",
            " 0.10376024 0.10412899 0.1045086  0.10488337 0.10524223 0.10557903\n",
            " 0.10589176 0.10618165 0.10645213 0.10670786 0.10695392 0.10719518\n",
            " 0.10743584 0.10767919 0.10792746 0.10818191 0.10844288 0.10871008\n",
            " 0.10898269 0.10925955 0.10953952 0.10982134]\n",
            "27 day input [[0.11010399]]\n",
            "28 day input [0.09294047 0.09250752 0.09753458 0.0927721  0.08851473 0.09017438\n",
            " 0.10027661 0.11191822 0.11720986 0.12647023 0.1270475  0.12440168\n",
            " 0.11244738 0.10010824 0.10535177 0.10739627 0.10487072 0.11316897\n",
            " 0.11165364 0.11201443 0.10984967 0.10835839 0.10773301 0.10831028\n",
            " 0.10306675 0.09741431 0.09469633 0.09508118 0.0857727  0.08543596\n",
            " 0.08420926 0.07372219 0.07437162 0.09007817 0.08365604 0.07629585\n",
            " 0.07165364 0.07475646 0.06258569 0.07395069 0.07129284 0.07605532\n",
            " 0.0738184  0.08093806 0.08473842 0.08279014 0.07261575 0.0713169\n",
            " 0.07949489 0.07745039 0.07155743 0.07276007 0.07425135 0.07468431\n",
            " 0.07110042 0.07651233 0.07855683 0.08553217 0.08627781 0.09034275\n",
            " 0.09625977 0.10259771 0.09837643 0.10604931 0.10027661 0.10621768\n",
            " 0.10539988 0.10703548 0.10287432 0.10381239 0.10006013 0.10578473\n",
            " 0.10251891 0.10268006 0.10288361 0.10312702 0.10342091 0.10376024\n",
            " 0.10412899 0.1045086  0.10488337 0.10524223 0.10557903 0.10589176\n",
            " 0.10618165 0.10645213 0.10670786 0.10695392 0.10719518 0.10743584\n",
            " 0.10767919 0.10792746 0.10818191 0.10844288 0.10871008 0.10898269\n",
            " 0.10925955 0.10953952 0.10982134 0.11010399]\n",
            "28 day input [[0.11038659]]\n",
            "29 day input [0.09250752 0.09753458 0.0927721  0.08851473 0.09017438 0.10027661\n",
            " 0.11191822 0.11720986 0.12647023 0.1270475  0.12440168 0.11244738\n",
            " 0.10010824 0.10535177 0.10739627 0.10487072 0.11316897 0.11165364\n",
            " 0.11201443 0.10984967 0.10835839 0.10773301 0.10831028 0.10306675\n",
            " 0.09741431 0.09469633 0.09508118 0.0857727  0.08543596 0.08420926\n",
            " 0.07372219 0.07437162 0.09007817 0.08365604 0.07629585 0.07165364\n",
            " 0.07475646 0.06258569 0.07395069 0.07129284 0.07605532 0.0738184\n",
            " 0.08093806 0.08473842 0.08279014 0.07261575 0.0713169  0.07949489\n",
            " 0.07745039 0.07155743 0.07276007 0.07425135 0.07468431 0.07110042\n",
            " 0.07651233 0.07855683 0.08553217 0.08627781 0.09034275 0.09625977\n",
            " 0.10259771 0.09837643 0.10604931 0.10027661 0.10621768 0.10539988\n",
            " 0.10703548 0.10287432 0.10381239 0.10006013 0.10578473 0.10251891\n",
            " 0.10268006 0.10288361 0.10312702 0.10342091 0.10376024 0.10412899\n",
            " 0.1045086  0.10488337 0.10524223 0.10557903 0.10589176 0.10618165\n",
            " 0.10645213 0.10670786 0.10695392 0.10719518 0.10743584 0.10767919\n",
            " 0.10792746 0.10818191 0.10844288 0.10871008 0.10898269 0.10925955\n",
            " 0.10953952 0.10982134 0.11010399 0.11038659]\n",
            "29 day input [[0.11066849]]\n",
            "[[0.10251890867948532], [0.10268006473779678], [0.10288360714912415], [0.10312701761722565], [0.1034209132194519], [0.1037602424621582], [0.10412899404764175], [0.10450860112905502], [0.10488336533308029], [0.10524222999811172], [0.10557902604341507], [0.10589176416397095], [0.10618165135383606], [0.10645212978124619], [0.106707863509655], [0.10695391893386841], [0.1071951761841774], [0.10743584483861923], [0.10767918825149536], [0.10792745649814606], [0.1081819087266922], [0.10844288021326065], [0.10871008038520813], [0.10898268967866898], [0.10925955325365067], [0.10953951627016068], [0.10982134193181992], [0.11010398715734482], [0.11038658767938614], [0.11066848784685135]]\n"
          ],
          "name": "stdout"
        }
      ]
    },
    {
      "cell_type": "code",
      "metadata": {
        "id": "28CNVwDlOfid"
      },
      "source": [
        "X_train_prediction = model.predict(X_train)\n",
        "training_data_accuracy = accuracy_score(X_train_prediction, Y_train)"
      ],
      "execution_count": null,
      "outputs": []
    },
    {
      "cell_type": "code",
      "metadata": {
        "id": "2jAUU66JGEUW"
      },
      "source": [
        "day_new = np.arange(1,101)\n",
        "day_predict = np.arange(101,131)"
      ],
      "execution_count": 52,
      "outputs": []
    },
    {
      "cell_type": "code",
      "metadata": {
        "colab": {
          "base_uri": "https://localhost:8080/"
        },
        "id": "i9f-214bGERM",
        "outputId": "2f123239-5e1f-4c11-c70f-940d1982add7"
      },
      "source": [
        "len(df1)"
      ],
      "execution_count": 53,
      "outputs": [
        {
          "output_type": "execute_result",
          "data": {
            "text/plain": [
              "1257"
            ]
          },
          "metadata": {
            "tags": []
          },
          "execution_count": 53
        }
      ]
    },
    {
      "cell_type": "code",
      "metadata": {
        "id": "C-uBH8GcLO5I"
      },
      "source": [
        "df3 = df1.tolist()\n",
        "df3.extend(lst_output)"
      ],
      "execution_count": 54,
      "outputs": []
    },
    {
      "cell_type": "code",
      "metadata": {
        "colab": {
          "base_uri": "https://localhost:8080/",
          "height": 282
        },
        "id": "jDAqqsWeLO2K",
        "outputId": "29c427f4-4b35-4d24-f7ea-d55a44cd27fa"
      },
      "source": [
        "# To see the predicted output\n",
        "plt.plot(day_new,scaler.inverse_transform(df1[1157:]))\n",
        "plt.plot(day_predict,scaler.inverse_transform(lst_output))"
      ],
      "execution_count": 56,
      "outputs": [
        {
          "output_type": "execute_result",
          "data": {
            "text/plain": [
              "[<matplotlib.lines.Line2D at 0x7f4b52342e90>]"
            ]
          },
          "metadata": {
            "tags": []
          },
          "execution_count": 56
        },
        {
          "output_type": "display_data",
          "data": {
            "image/png": "[encoded data removed]",
            "text/plain": [
              "<Figure size 432x288 with 1 Axes>"
            ]
          },
          "metadata": {
            "tags": [],
            "needs_background": "light"
          }
        }
      ]
    },
    {
      "cell_type": "code",
      "metadata": {
        "colab": {
          "base_uri": "https://localhost:8080/",
          "height": 282
        },
        "id": "AM2_ZlAbLOz-",
        "outputId": "670a2afc-4952-47a5-ab6c-d5107d9c5973"
      },
      "source": [
        "# To see complete output\n",
        "df3 = df1.tolist()\n",
        "df3.extend(lst_output)\n",
        "plt.plot(df3[1200:])"
      ],
      "execution_count": 59,
      "outputs": [
        {
          "output_type": "execute_result",
          "data": {
            "text/plain": [
              "[<matplotlib.lines.Line2D at 0x7f4ba20cd690>]"
            ]
          },
          "metadata": {
            "tags": []
          },
          "execution_count": 59
        },
        {
          "output_type": "display_data",
          "data": {
            "image/png": "[encoded data removed]",
            "text/plain": [
              "<Figure size 432x288 with 1 Axes>"
            ]
          },
          "metadata": {
            "tags": [],
            "needs_background": "light"
          }
        }
      ]
    }
  ]
}